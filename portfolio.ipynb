{
 "cells": [
  {
   "cell_type": "markdown",
   "id": "73951fcc",
   "metadata": {},
   "source": [
    "## Importing the Libraries"
   ]
  },
  {
   "cell_type": "code",
   "execution_count": 1,
   "id": "bd988204",
   "metadata": {
    "execution": {
     "iopub.execute_input": "2023-08-28T14:24:49.563373Z",
     "iopub.status.busy": "2023-08-28T14:24:49.562937Z",
     "iopub.status.idle": "2023-08-28T14:24:51.044930Z",
     "shell.execute_reply": "2023-08-28T14:24:51.044002Z"
    },
    "id": "DWqlFMl5hy9r",
    "outputId": "37ceba69-c824-43b9-fa4d-3f9a49824b93",
    "papermill": {
     "duration": 1.505144,
     "end_time": "2023-08-28T14:24:51.047473",
     "exception": false,
     "start_time": "2023-08-28T14:24:49.542329",
     "status": "completed"
    },
    "tags": []
   },
   "outputs": [],
   "source": [
    "import lightningchart as lc\n",
    "import random\n",
    "\n",
    "lc.set_license('my-license-key')\n",
    "\n",
    "import os\n",
    "import numpy as np # linear algebra\n",
    "import pandas as pd  # data processing, CSV file I/O (e.g. pd.read_csv)\n",
    "from pandas.core.frame import DataFrame\n",
    "pd.core.common.is_list_like = pd.api.types.is_list_like\n",
    "import pandas_datareader as web\n",
    "from pandas_datareader import data, wb\n",
    "import scipy.optimize as sco\n",
    "from scipy import stats\n",
    "from pandas.testing import assert_frame_equal\n",
    "\n",
    "\n",
    "import math\n",
    "import datetime as dt\n",
    "from datetime import datetime\n",
    "# Ignore harmless warnings\n",
    "import warnings\n",
    "warnings.filterwarnings(\"ignore\")\n"
   ]
  },
  {
   "cell_type": "code",
   "execution_count": 2,
   "id": "9e437730",
   "metadata": {
    "execution": {
     "iopub.execute_input": "2023-08-28T14:24:51.125877Z",
     "iopub.status.busy": "2023-08-28T14:24:51.125050Z",
     "iopub.status.idle": "2023-08-28T14:25:18.435698Z",
     "shell.execute_reply": "2023-08-28T14:25:18.434243Z"
    },
    "id": "_AVcGRnX-ZWW",
    "papermill": {
     "duration": 27.33429,
     "end_time": "2023-08-28T14:25:18.439325",
     "exception": false,
     "start_time": "2023-08-28T14:24:51.105035",
     "status": "completed"
    },
    "tags": []
   },
   "outputs": [
    {
     "name": "stdout",
     "output_type": "stream",
     "text": [
      "Requirement already satisfied: yfinance in c:\\users\\aomid\\appdata\\roaming\\python\\python312\\site-packages (0.2.40)\n",
      "Requirement already satisfied: pandas>=1.3.0 in c:\\python312\\lib\\site-packages (from yfinance) (2.2.2)\n",
      "Requirement already satisfied: numpy>=1.16.5 in c:\\python312\\lib\\site-packages (from yfinance) (1.26.4)\n",
      "Requirement already satisfied: requests>=2.31 in c:\\python312\\lib\\site-packages (from yfinance) (2.31.0)\n",
      "Requirement already satisfied: multitasking>=0.0.7 in c:\\users\\aomid\\appdata\\roaming\\python\\python312\\site-packages (from yfinance) (0.0.11)\n",
      "Requirement already satisfied: lxml>=4.9.1 in c:\\users\\aomid\\appdata\\roaming\\python\\python312\\site-packages (from yfinance) (5.2.2)\n",
      "Requirement already satisfied: platformdirs>=2.0.0 in c:\\users\\aomid\\appdata\\roaming\\python\\python312\\site-packages (from yfinance) (4.2.1)\n",
      "Requirement already satisfied: pytz>=2022.5 in c:\\python312\\lib\\site-packages (from yfinance) (2024.1)\n",
      "Requirement already satisfied: frozendict>=2.3.4 in c:\\users\\aomid\\appdata\\roaming\\python\\python312\\site-packages (from yfinance) (2.4.4)\n",
      "Requirement already satisfied: peewee>=3.16.2 in c:\\python312\\lib\\site-packages (from yfinance) (3.17.5)\n",
      "Requirement already satisfied: beautifulsoup4>=4.11.1 in c:\\python312\\lib\\site-packages (from yfinance) (4.12.3)\n",
      "Requirement already satisfied: html5lib>=1.1 in c:\\users\\aomid\\appdata\\roaming\\python\\python312\\site-packages (from yfinance) (1.1)\n",
      "Requirement already satisfied: soupsieve>1.2 in c:\\python312\\lib\\site-packages (from beautifulsoup4>=4.11.1->yfinance) (2.5)\n",
      "Requirement already satisfied: six>=1.9 in c:\\python312\\lib\\site-packages (from html5lib>=1.1->yfinance) (1.16.0)\n",
      "Requirement already satisfied: webencodings in c:\\python312\\lib\\site-packages (from html5lib>=1.1->yfinance) (0.5.1)\n",
      "Requirement already satisfied: python-dateutil>=2.8.2 in c:\\users\\aomid\\appdata\\roaming\\python\\python312\\site-packages (from pandas>=1.3.0->yfinance) (2.9.0.post0)\n",
      "Requirement already satisfied: tzdata>=2022.7 in c:\\python312\\lib\\site-packages (from pandas>=1.3.0->yfinance) (2024.1)\n",
      "Requirement already satisfied: charset-normalizer<4,>=2 in c:\\python312\\lib\\site-packages (from requests>=2.31->yfinance) (3.3.2)\n",
      "Requirement already satisfied: idna<4,>=2.5 in c:\\python312\\lib\\site-packages (from requests>=2.31->yfinance) (3.7)\n",
      "Requirement already satisfied: urllib3<3,>=1.21.1 in c:\\python312\\lib\\site-packages (from requests>=2.31->yfinance) (2.2.1)\n",
      "Requirement already satisfied: certifi>=2017.4.17 in c:\\python312\\lib\\site-packages (from requests>=2.31->yfinance) (2024.2.2)\n"
     ]
    },
    {
     "name": "stderr",
     "output_type": "stream",
     "text": [
      "\n",
      "[notice] A new release of pip is available: 24.0 -> 24.2\n",
      "[notice] To update, run: python.exe -m pip install --upgrade pip\n"
     ]
    },
    {
     "name": "stdout",
     "output_type": "stream",
     "text": [
      "Requirement already satisfied: yahoofinancials in c:\\python312\\lib\\site-packages (1.20)\n",
      "Requirement already satisfied: pytz>=2022.5 in c:\\python312\\lib\\site-packages (from yahoofinancials) (2024.1)\n",
      "Requirement already satisfied: requests>=2.31 in c:\\python312\\lib\\site-packages (from yahoofinancials) (2.31.0)\n",
      "Requirement already satisfied: appdirs>=1.4.4 in c:\\python312\\lib\\site-packages (from yahoofinancials) (1.4.4)\n",
      "Requirement already satisfied: frozendict>=2.3.4 in c:\\users\\aomid\\appdata\\roaming\\python\\python312\\site-packages (from yahoofinancials) (2.4.4)\n",
      "Requirement already satisfied: peewee>=3.16.2 in c:\\python312\\lib\\site-packages (from yahoofinancials) (3.17.5)\n",
      "Requirement already satisfied: beautifulsoup4>=4.11.1 in c:\\python312\\lib\\site-packages (from yahoofinancials) (4.12.3)\n",
      "Requirement already satisfied: lxml>=4.9.1 in c:\\users\\aomid\\appdata\\roaming\\python\\python312\\site-packages (from yahoofinancials) (5.2.2)\n",
      "Requirement already satisfied: soupsieve>1.2 in c:\\python312\\lib\\site-packages (from beautifulsoup4>=4.11.1->yahoofinancials) (2.5)\n",
      "Requirement already satisfied: charset-normalizer<4,>=2 in c:\\python312\\lib\\site-packages (from requests>=2.31->yahoofinancials) (3.3.2)\n",
      "Requirement already satisfied: idna<4,>=2.5 in c:\\python312\\lib\\site-packages (from requests>=2.31->yahoofinancials) (3.7)\n",
      "Requirement already satisfied: urllib3<3,>=1.21.1 in c:\\python312\\lib\\site-packages (from requests>=2.31->yahoofinancials) (2.2.1)\n",
      "Requirement already satisfied: certifi>=2017.4.17 in c:\\python312\\lib\\site-packages (from requests>=2.31->yahoofinancials) (2024.2.2)\n"
     ]
    },
    {
     "name": "stderr",
     "output_type": "stream",
     "text": [
      "\n",
      "[notice] A new release of pip is available: 24.0 -> 24.2\n",
      "[notice] To update, run: python.exe -m pip install --upgrade pip\n"
     ]
    }
   ],
   "source": [
    "!pip install yfinance\n",
    "!pip install yahoofinancials"
   ]
  },
  {
   "cell_type": "code",
   "execution_count": 3,
   "id": "dc69a609",
   "metadata": {
    "execution": {
     "iopub.execute_input": "2023-08-28T14:25:18.562311Z",
     "iopub.status.busy": "2023-08-28T14:25:18.561897Z",
     "iopub.status.idle": "2023-08-28T14:25:23.215489Z",
     "shell.execute_reply": "2023-08-28T14:25:23.214219Z"
    },
    "id": "A59pXrj_-p9n",
    "outputId": "63d08620-494f-45a5-f6ad-e7787f9d2d43",
    "papermill": {
     "duration": 4.678287,
     "end_time": "2023-08-28T14:25:23.217981",
     "exception": false,
     "start_time": "2023-08-28T14:25:18.539694",
     "status": "completed"
    },
    "tags": []
   },
   "outputs": [
    {
     "name": "stderr",
     "output_type": "stream",
     "text": [
      "[*********************100%%**********************]  1 of 1 completed\n",
      "[*********************100%%**********************]  1 of 1 completed\n",
      "[*********************100%%**********************]  1 of 1 completed\n",
      "[*********************100%%**********************]  1 of 1 completed\n",
      "[*********************100%%**********************]  1 of 1 completed\n",
      "[*********************100%%**********************]  1 of 1 completed"
     ]
    },
    {
     "name": "stdout",
     "output_type": "stream",
     "text": [
      "(2673, 6) (2673, 6) (2673, 6) (2673, 6) (2673, 6) (2673, 6)\n"
     ]
    },
    {
     "name": "stderr",
     "output_type": "stream",
     "text": [
      "\n"
     ]
    }
   ],
   "source": [
    "from yahoofinancials import YahooFinancials\n",
    "import yfinance as yf\n",
    "\n",
    "GOOG = yf.download(\"GOOG\", start=\"2012-05-18\", end=\"2023-01-01\",group_by=\"ticker\") # Stock of Google\n",
    "AAPL = yf.download(\"AAPL\", start=\"2012-05-18\", end=\"2023-01-01\",group_by=\"ticker\") # Stock of Apple\n",
    "META = yf.download(\"META\", start=\"2012-05-18\", end=\"2023-01-01\",group_by=\"ticker\") # Stock of Facebook\n",
    "AMZN = yf.download(\"AMZN\", start=\"2012-05-18\", end=\"2023-01-01\",group_by=\"ticker\") # Stock of Amazon\n",
    "MSFT = yf.download(\"MSFT\", start=\"2012-05-18\", end=\"2023-01-01\",group_by=\"ticker\") # Stock of Microsoft\n",
    "GSPC = yf.download(\"^GSPC\", start=\"2012-05-18\", end=\"2023-01-01\",group_by=\"ticker\") # Stock of S&P 500\n",
    "print(GOOG.shape, AAPL.shape, META.shape, AMZN.shape,MSFT.shape,GSPC.shape)"
   ]
  },
  {
   "cell_type": "code",
   "execution_count": 4,
   "id": "da3b58c0",
   "metadata": {
    "execution": {
     "iopub.execute_input": "2023-08-28T14:25:23.306119Z",
     "iopub.status.busy": "2023-08-28T14:25:23.305353Z",
     "iopub.status.idle": "2023-08-28T14:25:23.330108Z",
     "shell.execute_reply": "2023-08-28T14:25:23.328955Z"
    },
    "id": "pp3p0uO0Ac05",
    "outputId": "afb00a86-c478-4f02-9121-b625414c22c5",
    "papermill": {
     "duration": 0.050011,
     "end_time": "2023-08-28T14:25:23.332679",
     "exception": false,
     "start_time": "2023-08-28T14:25:23.282668",
     "status": "completed"
    },
    "tags": []
   },
   "outputs": [
    {
     "data": {
      "text/html": [
       "<div>\n",
       "<style scoped>\n",
       "    .dataframe tbody tr th:only-of-type {\n",
       "        vertical-align: middle;\n",
       "    }\n",
       "\n",
       "    .dataframe tbody tr th {\n",
       "        vertical-align: top;\n",
       "    }\n",
       "\n",
       "    .dataframe thead th {\n",
       "        text-align: right;\n",
       "    }\n",
       "</style>\n",
       "<table border=\"1\" class=\"dataframe\">\n",
       "  <thead>\n",
       "    <tr style=\"text-align: right;\">\n",
       "      <th></th>\n",
       "      <th>Open</th>\n",
       "      <th>High</th>\n",
       "      <th>Low</th>\n",
       "      <th>Close</th>\n",
       "      <th>Adj Close</th>\n",
       "      <th>Volume</th>\n",
       "    </tr>\n",
       "    <tr>\n",
       "      <th>Date</th>\n",
       "      <th></th>\n",
       "      <th></th>\n",
       "      <th></th>\n",
       "      <th></th>\n",
       "      <th></th>\n",
       "      <th></th>\n",
       "    </tr>\n",
       "  </thead>\n",
       "  <tbody>\n",
       "    <tr>\n",
       "      <th>2012-05-18</th>\n",
       "      <td>15.569143</td>\n",
       "      <td>15.751460</td>\n",
       "      <td>14.861794</td>\n",
       "      <td>14.953949</td>\n",
       "      <td>14.936952</td>\n",
       "      <td>239835606</td>\n",
       "    </tr>\n",
       "    <tr>\n",
       "      <th>2012-05-21</th>\n",
       "      <td>14.956689</td>\n",
       "      <td>15.334772</td>\n",
       "      <td>14.943986</td>\n",
       "      <td>15.295419</td>\n",
       "      <td>15.278033</td>\n",
       "      <td>123477094</td>\n",
       "    </tr>\n",
       "    <tr>\n",
       "      <th>2012-05-22</th>\n",
       "      <td>15.278732</td>\n",
       "      <td>15.287947</td>\n",
       "      <td>14.844360</td>\n",
       "      <td>14.963912</td>\n",
       "      <td>14.946903</td>\n",
       "      <td>122533571</td>\n",
       "    </tr>\n",
       "    <tr>\n",
       "      <th>2012-05-23</th>\n",
       "      <td>14.985082</td>\n",
       "      <td>15.183090</td>\n",
       "      <td>14.872255</td>\n",
       "      <td>15.179603</td>\n",
       "      <td>15.162349</td>\n",
       "      <td>127600492</td>\n",
       "    </tr>\n",
       "    <tr>\n",
       "      <th>2012-05-24</th>\n",
       "      <td>15.172131</td>\n",
       "      <td>15.240873</td>\n",
       "      <td>14.915842</td>\n",
       "      <td>15.035145</td>\n",
       "      <td>15.018055</td>\n",
       "      <td>75935562</td>\n",
       "    </tr>\n",
       "    <tr>\n",
       "      <th>...</th>\n",
       "      <td>...</td>\n",
       "      <td>...</td>\n",
       "      <td>...</td>\n",
       "      <td>...</td>\n",
       "      <td>...</td>\n",
       "      <td>...</td>\n",
       "    </tr>\n",
       "    <tr>\n",
       "      <th>2022-12-23</th>\n",
       "      <td>87.620003</td>\n",
       "      <td>90.099998</td>\n",
       "      <td>87.620003</td>\n",
       "      <td>89.809998</td>\n",
       "      <td>89.707916</td>\n",
       "      <td>17815000</td>\n",
       "    </tr>\n",
       "    <tr>\n",
       "      <th>2022-12-27</th>\n",
       "      <td>89.309998</td>\n",
       "      <td>89.500000</td>\n",
       "      <td>87.535004</td>\n",
       "      <td>87.930000</td>\n",
       "      <td>87.830055</td>\n",
       "      <td>15470900</td>\n",
       "    </tr>\n",
       "    <tr>\n",
       "      <th>2022-12-28</th>\n",
       "      <td>87.500000</td>\n",
       "      <td>88.519997</td>\n",
       "      <td>86.370003</td>\n",
       "      <td>86.459999</td>\n",
       "      <td>86.361725</td>\n",
       "      <td>17879600</td>\n",
       "    </tr>\n",
       "    <tr>\n",
       "      <th>2022-12-29</th>\n",
       "      <td>87.029999</td>\n",
       "      <td>89.364998</td>\n",
       "      <td>86.989998</td>\n",
       "      <td>88.949997</td>\n",
       "      <td>88.848892</td>\n",
       "      <td>18280700</td>\n",
       "    </tr>\n",
       "    <tr>\n",
       "      <th>2022-12-30</th>\n",
       "      <td>87.364998</td>\n",
       "      <td>88.830002</td>\n",
       "      <td>87.029999</td>\n",
       "      <td>88.730003</td>\n",
       "      <td>88.629150</td>\n",
       "      <td>19190300</td>\n",
       "    </tr>\n",
       "  </tbody>\n",
       "</table>\n",
       "<p>2673 rows × 6 columns</p>\n",
       "</div>"
      ],
      "text/plain": [
       "                 Open       High        Low      Close  Adj Close     Volume\n",
       "Date                                                                        \n",
       "2012-05-18  15.569143  15.751460  14.861794  14.953949  14.936952  239835606\n",
       "2012-05-21  14.956689  15.334772  14.943986  15.295419  15.278033  123477094\n",
       "2012-05-22  15.278732  15.287947  14.844360  14.963912  14.946903  122533571\n",
       "2012-05-23  14.985082  15.183090  14.872255  15.179603  15.162349  127600492\n",
       "2012-05-24  15.172131  15.240873  14.915842  15.035145  15.018055   75935562\n",
       "...               ...        ...        ...        ...        ...        ...\n",
       "2022-12-23  87.620003  90.099998  87.620003  89.809998  89.707916   17815000\n",
       "2022-12-27  89.309998  89.500000  87.535004  87.930000  87.830055   15470900\n",
       "2022-12-28  87.500000  88.519997  86.370003  86.459999  86.361725   17879600\n",
       "2022-12-29  87.029999  89.364998  86.989998  88.949997  88.848892   18280700\n",
       "2022-12-30  87.364998  88.830002  87.029999  88.730003  88.629150   19190300\n",
       "\n",
       "[2673 rows x 6 columns]"
      ]
     },
     "execution_count": 4,
     "metadata": {},
     "output_type": "execute_result"
    }
   ],
   "source": [
    "GOOG"
   ]
  },
  {
   "cell_type": "code",
   "execution_count": 5,
   "id": "0d0fe4d3",
   "metadata": {
    "execution": {
     "iopub.execute_input": "2023-08-28T14:25:23.378574Z",
     "iopub.status.busy": "2023-08-28T14:25:23.378103Z",
     "iopub.status.idle": "2023-08-28T14:25:23.396209Z",
     "shell.execute_reply": "2023-08-28T14:25:23.394629Z"
    },
    "id": "WQTZS-zkBK3O",
    "outputId": "4b311fe5-be4c-4779-a4e4-706f5349e58d",
    "papermill": {
     "duration": 0.044249,
     "end_time": "2023-08-28T14:25:23.398833",
     "exception": false,
     "start_time": "2023-08-28T14:25:23.354584",
     "status": "completed"
    },
    "tags": []
   },
   "outputs": [
    {
     "data": {
      "text/html": [
       "<div>\n",
       "<style scoped>\n",
       "    .dataframe tbody tr th:only-of-type {\n",
       "        vertical-align: middle;\n",
       "    }\n",
       "\n",
       "    .dataframe tbody tr th {\n",
       "        vertical-align: top;\n",
       "    }\n",
       "\n",
       "    .dataframe thead th {\n",
       "        text-align: right;\n",
       "    }\n",
       "</style>\n",
       "<table border=\"1\" class=\"dataframe\">\n",
       "  <thead>\n",
       "    <tr style=\"text-align: right;\">\n",
       "      <th></th>\n",
       "      <th>Open</th>\n",
       "      <th>High</th>\n",
       "      <th>Low</th>\n",
       "      <th>Close</th>\n",
       "      <th>Adj Close</th>\n",
       "      <th>Volume</th>\n",
       "    </tr>\n",
       "    <tr>\n",
       "      <th>Date</th>\n",
       "      <th></th>\n",
       "      <th></th>\n",
       "      <th></th>\n",
       "      <th></th>\n",
       "      <th></th>\n",
       "      <th></th>\n",
       "    </tr>\n",
       "  </thead>\n",
       "  <tbody>\n",
       "    <tr>\n",
       "      <th>2012-05-18</th>\n",
       "      <td>19.070000</td>\n",
       "      <td>19.407499</td>\n",
       "      <td>18.649286</td>\n",
       "      <td>18.942142</td>\n",
       "      <td>16.014681</td>\n",
       "      <td>732292400</td>\n",
       "    </tr>\n",
       "    <tr>\n",
       "      <th>2012-05-21</th>\n",
       "      <td>19.089287</td>\n",
       "      <td>20.055000</td>\n",
       "      <td>19.073214</td>\n",
       "      <td>20.045713</td>\n",
       "      <td>16.947702</td>\n",
       "      <td>631106000</td>\n",
       "    </tr>\n",
       "    <tr>\n",
       "      <th>2012-05-22</th>\n",
       "      <td>20.341070</td>\n",
       "      <td>20.495714</td>\n",
       "      <td>19.735001</td>\n",
       "      <td>19.891787</td>\n",
       "      <td>16.817572</td>\n",
       "      <td>694870400</td>\n",
       "    </tr>\n",
       "    <tr>\n",
       "      <th>2012-05-23</th>\n",
       "      <td>19.910713</td>\n",
       "      <td>20.457144</td>\n",
       "      <td>19.758215</td>\n",
       "      <td>20.377144</td>\n",
       "      <td>17.227917</td>\n",
       "      <td>584897600</td>\n",
       "    </tr>\n",
       "    <tr>\n",
       "      <th>2012-05-24</th>\n",
       "      <td>20.566786</td>\n",
       "      <td>20.589287</td>\n",
       "      <td>20.043928</td>\n",
       "      <td>20.190001</td>\n",
       "      <td>17.069691</td>\n",
       "      <td>496230000</td>\n",
       "    </tr>\n",
       "    <tr>\n",
       "      <th>...</th>\n",
       "      <td>...</td>\n",
       "      <td>...</td>\n",
       "      <td>...</td>\n",
       "      <td>...</td>\n",
       "      <td>...</td>\n",
       "      <td>...</td>\n",
       "    </tr>\n",
       "    <tr>\n",
       "      <th>2022-12-23</th>\n",
       "      <td>130.919998</td>\n",
       "      <td>132.419998</td>\n",
       "      <td>129.639999</td>\n",
       "      <td>131.860001</td>\n",
       "      <td>130.782578</td>\n",
       "      <td>63814900</td>\n",
       "    </tr>\n",
       "    <tr>\n",
       "      <th>2022-12-27</th>\n",
       "      <td>131.380005</td>\n",
       "      <td>131.410004</td>\n",
       "      <td>128.720001</td>\n",
       "      <td>130.029999</td>\n",
       "      <td>128.967514</td>\n",
       "      <td>69007800</td>\n",
       "    </tr>\n",
       "    <tr>\n",
       "      <th>2022-12-28</th>\n",
       "      <td>129.669998</td>\n",
       "      <td>131.029999</td>\n",
       "      <td>125.870003</td>\n",
       "      <td>126.040001</td>\n",
       "      <td>125.010117</td>\n",
       "      <td>85438400</td>\n",
       "    </tr>\n",
       "    <tr>\n",
       "      <th>2022-12-29</th>\n",
       "      <td>127.989998</td>\n",
       "      <td>130.479996</td>\n",
       "      <td>127.730003</td>\n",
       "      <td>129.610001</td>\n",
       "      <td>128.550949</td>\n",
       "      <td>75703700</td>\n",
       "    </tr>\n",
       "    <tr>\n",
       "      <th>2022-12-30</th>\n",
       "      <td>128.410004</td>\n",
       "      <td>129.949997</td>\n",
       "      <td>127.430000</td>\n",
       "      <td>129.929993</td>\n",
       "      <td>128.868317</td>\n",
       "      <td>77034200</td>\n",
       "    </tr>\n",
       "  </tbody>\n",
       "</table>\n",
       "<p>2673 rows × 6 columns</p>\n",
       "</div>"
      ],
      "text/plain": [
       "                  Open        High         Low       Close   Adj Close  \\\n",
       "Date                                                                     \n",
       "2012-05-18   19.070000   19.407499   18.649286   18.942142   16.014681   \n",
       "2012-05-21   19.089287   20.055000   19.073214   20.045713   16.947702   \n",
       "2012-05-22   20.341070   20.495714   19.735001   19.891787   16.817572   \n",
       "2012-05-23   19.910713   20.457144   19.758215   20.377144   17.227917   \n",
       "2012-05-24   20.566786   20.589287   20.043928   20.190001   17.069691   \n",
       "...                ...         ...         ...         ...         ...   \n",
       "2022-12-23  130.919998  132.419998  129.639999  131.860001  130.782578   \n",
       "2022-12-27  131.380005  131.410004  128.720001  130.029999  128.967514   \n",
       "2022-12-28  129.669998  131.029999  125.870003  126.040001  125.010117   \n",
       "2022-12-29  127.989998  130.479996  127.730003  129.610001  128.550949   \n",
       "2022-12-30  128.410004  129.949997  127.430000  129.929993  128.868317   \n",
       "\n",
       "               Volume  \n",
       "Date                   \n",
       "2012-05-18  732292400  \n",
       "2012-05-21  631106000  \n",
       "2012-05-22  694870400  \n",
       "2012-05-23  584897600  \n",
       "2012-05-24  496230000  \n",
       "...               ...  \n",
       "2022-12-23   63814900  \n",
       "2022-12-27   69007800  \n",
       "2022-12-28   85438400  \n",
       "2022-12-29   75703700  \n",
       "2022-12-30   77034200  \n",
       "\n",
       "[2673 rows x 6 columns]"
      ]
     },
     "execution_count": 5,
     "metadata": {},
     "output_type": "execute_result"
    }
   ],
   "source": [
    "AAPL"
   ]
  },
  {
   "cell_type": "code",
   "execution_count": 6,
   "id": "333be4cf",
   "metadata": {
    "execution": {
     "iopub.execute_input": "2023-08-28T14:25:23.445528Z",
     "iopub.status.busy": "2023-08-28T14:25:23.445026Z",
     "iopub.status.idle": "2023-08-28T14:25:23.463691Z",
     "shell.execute_reply": "2023-08-28T14:25:23.462328Z"
    },
    "id": "utU0jWzaBO2h",
    "outputId": "2716e01a-98ba-4763-af3b-0a42a6a629e2",
    "papermill": {
     "duration": 0.044547,
     "end_time": "2023-08-28T14:25:23.466087",
     "exception": false,
     "start_time": "2023-08-28T14:25:23.421540",
     "status": "completed"
    },
    "tags": []
   },
   "outputs": [
    {
     "data": {
      "text/html": [
       "<div>\n",
       "<style scoped>\n",
       "    .dataframe tbody tr th:only-of-type {\n",
       "        vertical-align: middle;\n",
       "    }\n",
       "\n",
       "    .dataframe tbody tr th {\n",
       "        vertical-align: top;\n",
       "    }\n",
       "\n",
       "    .dataframe thead th {\n",
       "        text-align: right;\n",
       "    }\n",
       "</style>\n",
       "<table border=\"1\" class=\"dataframe\">\n",
       "  <thead>\n",
       "    <tr style=\"text-align: right;\">\n",
       "      <th></th>\n",
       "      <th>Open</th>\n",
       "      <th>High</th>\n",
       "      <th>Low</th>\n",
       "      <th>Close</th>\n",
       "      <th>Adj Close</th>\n",
       "      <th>Volume</th>\n",
       "    </tr>\n",
       "    <tr>\n",
       "      <th>Date</th>\n",
       "      <th></th>\n",
       "      <th></th>\n",
       "      <th></th>\n",
       "      <th></th>\n",
       "      <th></th>\n",
       "      <th></th>\n",
       "    </tr>\n",
       "  </thead>\n",
       "  <tbody>\n",
       "    <tr>\n",
       "      <th>2012-05-18</th>\n",
       "      <td>42.049999</td>\n",
       "      <td>45.000000</td>\n",
       "      <td>38.000000</td>\n",
       "      <td>38.230000</td>\n",
       "      <td>38.151604</td>\n",
       "      <td>573576400</td>\n",
       "    </tr>\n",
       "    <tr>\n",
       "      <th>2012-05-21</th>\n",
       "      <td>36.529999</td>\n",
       "      <td>36.660000</td>\n",
       "      <td>33.000000</td>\n",
       "      <td>34.029999</td>\n",
       "      <td>33.960213</td>\n",
       "      <td>168192700</td>\n",
       "    </tr>\n",
       "    <tr>\n",
       "      <th>2012-05-22</th>\n",
       "      <td>32.610001</td>\n",
       "      <td>33.590000</td>\n",
       "      <td>30.940001</td>\n",
       "      <td>31.000000</td>\n",
       "      <td>30.936428</td>\n",
       "      <td>101786600</td>\n",
       "    </tr>\n",
       "    <tr>\n",
       "      <th>2012-05-23</th>\n",
       "      <td>31.370001</td>\n",
       "      <td>32.500000</td>\n",
       "      <td>31.360001</td>\n",
       "      <td>32.000000</td>\n",
       "      <td>31.934378</td>\n",
       "      <td>73600000</td>\n",
       "    </tr>\n",
       "    <tr>\n",
       "      <th>2012-05-24</th>\n",
       "      <td>32.950001</td>\n",
       "      <td>33.209999</td>\n",
       "      <td>31.770000</td>\n",
       "      <td>33.029999</td>\n",
       "      <td>32.962265</td>\n",
       "      <td>50237200</td>\n",
       "    </tr>\n",
       "    <tr>\n",
       "      <th>...</th>\n",
       "      <td>...</td>\n",
       "      <td>...</td>\n",
       "      <td>...</td>\n",
       "      <td>...</td>\n",
       "      <td>...</td>\n",
       "      <td>...</td>\n",
       "    </tr>\n",
       "    <tr>\n",
       "      <th>2022-12-23</th>\n",
       "      <td>116.029999</td>\n",
       "      <td>118.180000</td>\n",
       "      <td>115.540001</td>\n",
       "      <td>118.040001</td>\n",
       "      <td>117.797935</td>\n",
       "      <td>17796600</td>\n",
       "    </tr>\n",
       "    <tr>\n",
       "      <th>2022-12-27</th>\n",
       "      <td>117.930000</td>\n",
       "      <td>118.599998</td>\n",
       "      <td>116.050003</td>\n",
       "      <td>116.879997</td>\n",
       "      <td>116.640312</td>\n",
       "      <td>21392300</td>\n",
       "    </tr>\n",
       "    <tr>\n",
       "      <th>2022-12-28</th>\n",
       "      <td>116.250000</td>\n",
       "      <td>118.150002</td>\n",
       "      <td>115.510002</td>\n",
       "      <td>115.620003</td>\n",
       "      <td>115.382896</td>\n",
       "      <td>19612500</td>\n",
       "    </tr>\n",
       "    <tr>\n",
       "      <th>2022-12-29</th>\n",
       "      <td>116.400002</td>\n",
       "      <td>121.029999</td>\n",
       "      <td>115.769997</td>\n",
       "      <td>120.260002</td>\n",
       "      <td>120.013382</td>\n",
       "      <td>22366200</td>\n",
       "    </tr>\n",
       "    <tr>\n",
       "      <th>2022-12-30</th>\n",
       "      <td>118.160004</td>\n",
       "      <td>120.419998</td>\n",
       "      <td>117.739998</td>\n",
       "      <td>120.339996</td>\n",
       "      <td>120.093216</td>\n",
       "      <td>19583800</td>\n",
       "    </tr>\n",
       "  </tbody>\n",
       "</table>\n",
       "<p>2673 rows × 6 columns</p>\n",
       "</div>"
      ],
      "text/plain": [
       "                  Open        High         Low       Close   Adj Close  \\\n",
       "Date                                                                     \n",
       "2012-05-18   42.049999   45.000000   38.000000   38.230000   38.151604   \n",
       "2012-05-21   36.529999   36.660000   33.000000   34.029999   33.960213   \n",
       "2012-05-22   32.610001   33.590000   30.940001   31.000000   30.936428   \n",
       "2012-05-23   31.370001   32.500000   31.360001   32.000000   31.934378   \n",
       "2012-05-24   32.950001   33.209999   31.770000   33.029999   32.962265   \n",
       "...                ...         ...         ...         ...         ...   \n",
       "2022-12-23  116.029999  118.180000  115.540001  118.040001  117.797935   \n",
       "2022-12-27  117.930000  118.599998  116.050003  116.879997  116.640312   \n",
       "2022-12-28  116.250000  118.150002  115.510002  115.620003  115.382896   \n",
       "2022-12-29  116.400002  121.029999  115.769997  120.260002  120.013382   \n",
       "2022-12-30  118.160004  120.419998  117.739998  120.339996  120.093216   \n",
       "\n",
       "               Volume  \n",
       "Date                   \n",
       "2012-05-18  573576400  \n",
       "2012-05-21  168192700  \n",
       "2012-05-22  101786600  \n",
       "2012-05-23   73600000  \n",
       "2012-05-24   50237200  \n",
       "...               ...  \n",
       "2022-12-23   17796600  \n",
       "2022-12-27   21392300  \n",
       "2022-12-28   19612500  \n",
       "2022-12-29   22366200  \n",
       "2022-12-30   19583800  \n",
       "\n",
       "[2673 rows x 6 columns]"
      ]
     },
     "execution_count": 6,
     "metadata": {},
     "output_type": "execute_result"
    }
   ],
   "source": [
    "META"
   ]
  },
  {
   "cell_type": "code",
   "execution_count": 7,
   "id": "bc4cbaf9",
   "metadata": {
    "execution": {
     "iopub.execute_input": "2023-08-28T14:25:23.513742Z",
     "iopub.status.busy": "2023-08-28T14:25:23.513371Z",
     "iopub.status.idle": "2023-08-28T14:25:23.529771Z",
     "shell.execute_reply": "2023-08-28T14:25:23.528603Z"
    },
    "id": "WH85a5MLBQTe",
    "outputId": "d5dc3f14-5155-4967-b89a-08495fe418b7",
    "papermill": {
     "duration": 0.043406,
     "end_time": "2023-08-28T14:25:23.532428",
     "exception": false,
     "start_time": "2023-08-28T14:25:23.489022",
     "status": "completed"
    },
    "tags": []
   },
   "outputs": [
    {
     "data": {
      "text/html": [
       "<div>\n",
       "<style scoped>\n",
       "    .dataframe tbody tr th:only-of-type {\n",
       "        vertical-align: middle;\n",
       "    }\n",
       "\n",
       "    .dataframe tbody tr th {\n",
       "        vertical-align: top;\n",
       "    }\n",
       "\n",
       "    .dataframe thead th {\n",
       "        text-align: right;\n",
       "    }\n",
       "</style>\n",
       "<table border=\"1\" class=\"dataframe\">\n",
       "  <thead>\n",
       "    <tr style=\"text-align: right;\">\n",
       "      <th></th>\n",
       "      <th>Open</th>\n",
       "      <th>High</th>\n",
       "      <th>Low</th>\n",
       "      <th>Close</th>\n",
       "      <th>Adj Close</th>\n",
       "      <th>Volume</th>\n",
       "    </tr>\n",
       "    <tr>\n",
       "      <th>Date</th>\n",
       "      <th></th>\n",
       "      <th></th>\n",
       "      <th></th>\n",
       "      <th></th>\n",
       "      <th></th>\n",
       "      <th></th>\n",
       "    </tr>\n",
       "  </thead>\n",
       "  <tbody>\n",
       "    <tr>\n",
       "      <th>2012-05-18</th>\n",
       "      <td>10.970500</td>\n",
       "      <td>10.981500</td>\n",
       "      <td>10.640500</td>\n",
       "      <td>10.692500</td>\n",
       "      <td>10.692500</td>\n",
       "      <td>104634000</td>\n",
       "    </tr>\n",
       "    <tr>\n",
       "      <th>2012-05-21</th>\n",
       "      <td>10.701500</td>\n",
       "      <td>10.999000</td>\n",
       "      <td>10.641000</td>\n",
       "      <td>10.905500</td>\n",
       "      <td>10.905500</td>\n",
       "      <td>71596000</td>\n",
       "    </tr>\n",
       "    <tr>\n",
       "      <th>2012-05-22</th>\n",
       "      <td>10.915500</td>\n",
       "      <td>10.943500</td>\n",
       "      <td>10.698000</td>\n",
       "      <td>10.766500</td>\n",
       "      <td>10.766500</td>\n",
       "      <td>74662000</td>\n",
       "    </tr>\n",
       "    <tr>\n",
       "      <th>2012-05-23</th>\n",
       "      <td>10.735500</td>\n",
       "      <td>10.877500</td>\n",
       "      <td>10.559000</td>\n",
       "      <td>10.864000</td>\n",
       "      <td>10.864000</td>\n",
       "      <td>84876000</td>\n",
       "    </tr>\n",
       "    <tr>\n",
       "      <th>2012-05-24</th>\n",
       "      <td>10.849000</td>\n",
       "      <td>10.883000</td>\n",
       "      <td>10.635000</td>\n",
       "      <td>10.762000</td>\n",
       "      <td>10.762000</td>\n",
       "      <td>62822000</td>\n",
       "    </tr>\n",
       "    <tr>\n",
       "      <th>...</th>\n",
       "      <td>...</td>\n",
       "      <td>...</td>\n",
       "      <td>...</td>\n",
       "      <td>...</td>\n",
       "      <td>...</td>\n",
       "      <td>...</td>\n",
       "    </tr>\n",
       "    <tr>\n",
       "      <th>2022-12-23</th>\n",
       "      <td>83.250000</td>\n",
       "      <td>85.779999</td>\n",
       "      <td>82.930000</td>\n",
       "      <td>85.250000</td>\n",
       "      <td>85.250000</td>\n",
       "      <td>57433700</td>\n",
       "    </tr>\n",
       "    <tr>\n",
       "      <th>2022-12-27</th>\n",
       "      <td>84.970001</td>\n",
       "      <td>85.349998</td>\n",
       "      <td>83.000000</td>\n",
       "      <td>83.040001</td>\n",
       "      <td>83.040001</td>\n",
       "      <td>57284000</td>\n",
       "    </tr>\n",
       "    <tr>\n",
       "      <th>2022-12-28</th>\n",
       "      <td>82.800003</td>\n",
       "      <td>83.480003</td>\n",
       "      <td>81.690002</td>\n",
       "      <td>81.820000</td>\n",
       "      <td>81.820000</td>\n",
       "      <td>58228600</td>\n",
       "    </tr>\n",
       "    <tr>\n",
       "      <th>2022-12-29</th>\n",
       "      <td>82.870003</td>\n",
       "      <td>84.550003</td>\n",
       "      <td>82.550003</td>\n",
       "      <td>84.180000</td>\n",
       "      <td>84.180000</td>\n",
       "      <td>54995900</td>\n",
       "    </tr>\n",
       "    <tr>\n",
       "      <th>2022-12-30</th>\n",
       "      <td>83.120003</td>\n",
       "      <td>84.050003</td>\n",
       "      <td>82.470001</td>\n",
       "      <td>84.000000</td>\n",
       "      <td>84.000000</td>\n",
       "      <td>62401200</td>\n",
       "    </tr>\n",
       "  </tbody>\n",
       "</table>\n",
       "<p>2673 rows × 6 columns</p>\n",
       "</div>"
      ],
      "text/plain": [
       "                 Open       High        Low      Close  Adj Close     Volume\n",
       "Date                                                                        \n",
       "2012-05-18  10.970500  10.981500  10.640500  10.692500  10.692500  104634000\n",
       "2012-05-21  10.701500  10.999000  10.641000  10.905500  10.905500   71596000\n",
       "2012-05-22  10.915500  10.943500  10.698000  10.766500  10.766500   74662000\n",
       "2012-05-23  10.735500  10.877500  10.559000  10.864000  10.864000   84876000\n",
       "2012-05-24  10.849000  10.883000  10.635000  10.762000  10.762000   62822000\n",
       "...               ...        ...        ...        ...        ...        ...\n",
       "2022-12-23  83.250000  85.779999  82.930000  85.250000  85.250000   57433700\n",
       "2022-12-27  84.970001  85.349998  83.000000  83.040001  83.040001   57284000\n",
       "2022-12-28  82.800003  83.480003  81.690002  81.820000  81.820000   58228600\n",
       "2022-12-29  82.870003  84.550003  82.550003  84.180000  84.180000   54995900\n",
       "2022-12-30  83.120003  84.050003  82.470001  84.000000  84.000000   62401200\n",
       "\n",
       "[2673 rows x 6 columns]"
      ]
     },
     "execution_count": 7,
     "metadata": {},
     "output_type": "execute_result"
    }
   ],
   "source": [
    "AMZN"
   ]
  },
  {
   "cell_type": "code",
   "execution_count": 8,
   "id": "672a6dbd",
   "metadata": {
    "execution": {
     "iopub.execute_input": "2023-08-28T14:25:23.579110Z",
     "iopub.status.busy": "2023-08-28T14:25:23.578748Z",
     "iopub.status.idle": "2023-08-28T14:25:23.594993Z",
     "shell.execute_reply": "2023-08-28T14:25:23.593916Z"
    },
    "id": "K_gl3IbqBSmp",
    "outputId": "83ec894c-ef1d-42be-e442-5fc7527f2bcc",
    "papermill": {
     "duration": 0.041374,
     "end_time": "2023-08-28T14:25:23.597055",
     "exception": false,
     "start_time": "2023-08-28T14:25:23.555681",
     "status": "completed"
    },
    "tags": []
   },
   "outputs": [
    {
     "data": {
      "text/html": [
       "<div>\n",
       "<style scoped>\n",
       "    .dataframe tbody tr th:only-of-type {\n",
       "        vertical-align: middle;\n",
       "    }\n",
       "\n",
       "    .dataframe tbody tr th {\n",
       "        vertical-align: top;\n",
       "    }\n",
       "\n",
       "    .dataframe thead th {\n",
       "        text-align: right;\n",
       "    }\n",
       "</style>\n",
       "<table border=\"1\" class=\"dataframe\">\n",
       "  <thead>\n",
       "    <tr style=\"text-align: right;\">\n",
       "      <th></th>\n",
       "      <th>Open</th>\n",
       "      <th>High</th>\n",
       "      <th>Low</th>\n",
       "      <th>Close</th>\n",
       "      <th>Adj Close</th>\n",
       "      <th>Volume</th>\n",
       "    </tr>\n",
       "    <tr>\n",
       "      <th>Date</th>\n",
       "      <th></th>\n",
       "      <th></th>\n",
       "      <th></th>\n",
       "      <th></th>\n",
       "      <th></th>\n",
       "      <th></th>\n",
       "    </tr>\n",
       "  </thead>\n",
       "  <tbody>\n",
       "    <tr>\n",
       "      <th>2012-05-18</th>\n",
       "      <td>29.790001</td>\n",
       "      <td>29.809999</td>\n",
       "      <td>29.170000</td>\n",
       "      <td>29.270000</td>\n",
       "      <td>23.486094</td>\n",
       "      <td>56205300</td>\n",
       "    </tr>\n",
       "    <tr>\n",
       "      <th>2012-05-21</th>\n",
       "      <td>29.100000</td>\n",
       "      <td>29.790001</td>\n",
       "      <td>29.059999</td>\n",
       "      <td>29.750000</td>\n",
       "      <td>23.871246</td>\n",
       "      <td>38787900</td>\n",
       "    </tr>\n",
       "    <tr>\n",
       "      <th>2012-05-22</th>\n",
       "      <td>29.690001</td>\n",
       "      <td>29.879999</td>\n",
       "      <td>29.500000</td>\n",
       "      <td>29.760000</td>\n",
       "      <td>23.879271</td>\n",
       "      <td>39504900</td>\n",
       "    </tr>\n",
       "    <tr>\n",
       "      <th>2012-05-23</th>\n",
       "      <td>29.350000</td>\n",
       "      <td>29.400000</td>\n",
       "      <td>28.639999</td>\n",
       "      <td>29.110001</td>\n",
       "      <td>23.357706</td>\n",
       "      <td>65171000</td>\n",
       "    </tr>\n",
       "    <tr>\n",
       "      <th>2012-05-24</th>\n",
       "      <td>29.160000</td>\n",
       "      <td>29.299999</td>\n",
       "      <td>28.760000</td>\n",
       "      <td>29.070000</td>\n",
       "      <td>23.325619</td>\n",
       "      <td>52575000</td>\n",
       "    </tr>\n",
       "    <tr>\n",
       "      <th>...</th>\n",
       "      <td>...</td>\n",
       "      <td>...</td>\n",
       "      <td>...</td>\n",
       "      <td>...</td>\n",
       "      <td>...</td>\n",
       "      <td>...</td>\n",
       "    </tr>\n",
       "    <tr>\n",
       "      <th>2022-12-23</th>\n",
       "      <td>236.110001</td>\n",
       "      <td>238.869995</td>\n",
       "      <td>233.940002</td>\n",
       "      <td>238.729996</td>\n",
       "      <td>235.769745</td>\n",
       "      <td>21207000</td>\n",
       "    </tr>\n",
       "    <tr>\n",
       "      <th>2022-12-27</th>\n",
       "      <td>238.699997</td>\n",
       "      <td>238.929993</td>\n",
       "      <td>235.830002</td>\n",
       "      <td>236.960007</td>\n",
       "      <td>234.021698</td>\n",
       "      <td>16688600</td>\n",
       "    </tr>\n",
       "    <tr>\n",
       "      <th>2022-12-28</th>\n",
       "      <td>236.889999</td>\n",
       "      <td>239.720001</td>\n",
       "      <td>234.169998</td>\n",
       "      <td>234.529999</td>\n",
       "      <td>231.621857</td>\n",
       "      <td>17457100</td>\n",
       "    </tr>\n",
       "    <tr>\n",
       "      <th>2022-12-29</th>\n",
       "      <td>235.649994</td>\n",
       "      <td>241.919998</td>\n",
       "      <td>235.649994</td>\n",
       "      <td>241.009995</td>\n",
       "      <td>238.021469</td>\n",
       "      <td>19770700</td>\n",
       "    </tr>\n",
       "    <tr>\n",
       "      <th>2022-12-30</th>\n",
       "      <td>238.210007</td>\n",
       "      <td>239.960007</td>\n",
       "      <td>236.660004</td>\n",
       "      <td>239.820007</td>\n",
       "      <td>236.846268</td>\n",
       "      <td>21938500</td>\n",
       "    </tr>\n",
       "  </tbody>\n",
       "</table>\n",
       "<p>2673 rows × 6 columns</p>\n",
       "</div>"
      ],
      "text/plain": [
       "                  Open        High         Low       Close   Adj Close  \\\n",
       "Date                                                                     \n",
       "2012-05-18   29.790001   29.809999   29.170000   29.270000   23.486094   \n",
       "2012-05-21   29.100000   29.790001   29.059999   29.750000   23.871246   \n",
       "2012-05-22   29.690001   29.879999   29.500000   29.760000   23.879271   \n",
       "2012-05-23   29.350000   29.400000   28.639999   29.110001   23.357706   \n",
       "2012-05-24   29.160000   29.299999   28.760000   29.070000   23.325619   \n",
       "...                ...         ...         ...         ...         ...   \n",
       "2022-12-23  236.110001  238.869995  233.940002  238.729996  235.769745   \n",
       "2022-12-27  238.699997  238.929993  235.830002  236.960007  234.021698   \n",
       "2022-12-28  236.889999  239.720001  234.169998  234.529999  231.621857   \n",
       "2022-12-29  235.649994  241.919998  235.649994  241.009995  238.021469   \n",
       "2022-12-30  238.210007  239.960007  236.660004  239.820007  236.846268   \n",
       "\n",
       "              Volume  \n",
       "Date                  \n",
       "2012-05-18  56205300  \n",
       "2012-05-21  38787900  \n",
       "2012-05-22  39504900  \n",
       "2012-05-23  65171000  \n",
       "2012-05-24  52575000  \n",
       "...              ...  \n",
       "2022-12-23  21207000  \n",
       "2022-12-27  16688600  \n",
       "2022-12-28  17457100  \n",
       "2022-12-29  19770700  \n",
       "2022-12-30  21938500  \n",
       "\n",
       "[2673 rows x 6 columns]"
      ]
     },
     "execution_count": 8,
     "metadata": {},
     "output_type": "execute_result"
    }
   ],
   "source": [
    "MSFT"
   ]
  },
  {
   "cell_type": "code",
   "execution_count": 9,
   "id": "9cc5a645",
   "metadata": {
    "execution": {
     "iopub.execute_input": "2023-08-28T14:25:23.644715Z",
     "iopub.status.busy": "2023-08-28T14:25:23.644329Z",
     "iopub.status.idle": "2023-08-28T14:25:23.659882Z",
     "shell.execute_reply": "2023-08-28T14:25:23.658781Z"
    },
    "id": "vD48if97KhZ-",
    "outputId": "bb1577b0-6ff8-4716-cae6-72a0963d88e3",
    "papermill": {
     "duration": 0.041447,
     "end_time": "2023-08-28T14:25:23.662372",
     "exception": false,
     "start_time": "2023-08-28T14:25:23.620925",
     "status": "completed"
    },
    "tags": []
   },
   "outputs": [
    {
     "data": {
      "text/html": [
       "<div>\n",
       "<style scoped>\n",
       "    .dataframe tbody tr th:only-of-type {\n",
       "        vertical-align: middle;\n",
       "    }\n",
       "\n",
       "    .dataframe tbody tr th {\n",
       "        vertical-align: top;\n",
       "    }\n",
       "\n",
       "    .dataframe thead th {\n",
       "        text-align: right;\n",
       "    }\n",
       "</style>\n",
       "<table border=\"1\" class=\"dataframe\">\n",
       "  <thead>\n",
       "    <tr style=\"text-align: right;\">\n",
       "      <th></th>\n",
       "      <th>Open</th>\n",
       "      <th>High</th>\n",
       "      <th>Low</th>\n",
       "      <th>Close</th>\n",
       "      <th>Adj Close</th>\n",
       "      <th>Volume</th>\n",
       "    </tr>\n",
       "    <tr>\n",
       "      <th>Date</th>\n",
       "      <th></th>\n",
       "      <th></th>\n",
       "      <th></th>\n",
       "      <th></th>\n",
       "      <th></th>\n",
       "      <th></th>\n",
       "    </tr>\n",
       "  </thead>\n",
       "  <tbody>\n",
       "    <tr>\n",
       "      <th>2012-05-18</th>\n",
       "      <td>1305.050049</td>\n",
       "      <td>1312.239990</td>\n",
       "      <td>1291.979980</td>\n",
       "      <td>1295.219971</td>\n",
       "      <td>1295.219971</td>\n",
       "      <td>4512470000</td>\n",
       "    </tr>\n",
       "    <tr>\n",
       "      <th>2012-05-21</th>\n",
       "      <td>1295.729980</td>\n",
       "      <td>1316.390015</td>\n",
       "      <td>1295.729980</td>\n",
       "      <td>1315.989990</td>\n",
       "      <td>1315.989990</td>\n",
       "      <td>3786750000</td>\n",
       "    </tr>\n",
       "    <tr>\n",
       "      <th>2012-05-22</th>\n",
       "      <td>1316.089966</td>\n",
       "      <td>1328.489990</td>\n",
       "      <td>1310.040039</td>\n",
       "      <td>1316.630005</td>\n",
       "      <td>1316.630005</td>\n",
       "      <td>4123680000</td>\n",
       "    </tr>\n",
       "    <tr>\n",
       "      <th>2012-05-23</th>\n",
       "      <td>1316.020020</td>\n",
       "      <td>1320.709961</td>\n",
       "      <td>1296.530029</td>\n",
       "      <td>1318.859985</td>\n",
       "      <td>1318.859985</td>\n",
       "      <td>4108330000</td>\n",
       "    </tr>\n",
       "    <tr>\n",
       "      <th>2012-05-24</th>\n",
       "      <td>1318.719971</td>\n",
       "      <td>1324.140015</td>\n",
       "      <td>1310.500000</td>\n",
       "      <td>1320.680054</td>\n",
       "      <td>1320.680054</td>\n",
       "      <td>3937670000</td>\n",
       "    </tr>\n",
       "    <tr>\n",
       "      <th>...</th>\n",
       "      <td>...</td>\n",
       "      <td>...</td>\n",
       "      <td>...</td>\n",
       "      <td>...</td>\n",
       "      <td>...</td>\n",
       "      <td>...</td>\n",
       "    </tr>\n",
       "    <tr>\n",
       "      <th>2022-12-23</th>\n",
       "      <td>3815.110107</td>\n",
       "      <td>3845.800049</td>\n",
       "      <td>3797.010010</td>\n",
       "      <td>3844.820068</td>\n",
       "      <td>3844.820068</td>\n",
       "      <td>2819280000</td>\n",
       "    </tr>\n",
       "    <tr>\n",
       "      <th>2022-12-27</th>\n",
       "      <td>3843.340088</td>\n",
       "      <td>3846.649902</td>\n",
       "      <td>3813.219971</td>\n",
       "      <td>3829.250000</td>\n",
       "      <td>3829.250000</td>\n",
       "      <td>3030300000</td>\n",
       "    </tr>\n",
       "    <tr>\n",
       "      <th>2022-12-28</th>\n",
       "      <td>3829.560059</td>\n",
       "      <td>3848.320068</td>\n",
       "      <td>3780.780029</td>\n",
       "      <td>3783.219971</td>\n",
       "      <td>3783.219971</td>\n",
       "      <td>3083520000</td>\n",
       "    </tr>\n",
       "    <tr>\n",
       "      <th>2022-12-29</th>\n",
       "      <td>3805.449951</td>\n",
       "      <td>3858.189941</td>\n",
       "      <td>3805.449951</td>\n",
       "      <td>3849.280029</td>\n",
       "      <td>3849.280029</td>\n",
       "      <td>3003680000</td>\n",
       "    </tr>\n",
       "    <tr>\n",
       "      <th>2022-12-30</th>\n",
       "      <td>3829.060059</td>\n",
       "      <td>3839.850098</td>\n",
       "      <td>3800.340088</td>\n",
       "      <td>3839.500000</td>\n",
       "      <td>3839.500000</td>\n",
       "      <td>2979870000</td>\n",
       "    </tr>\n",
       "  </tbody>\n",
       "</table>\n",
       "<p>2673 rows × 6 columns</p>\n",
       "</div>"
      ],
      "text/plain": [
       "                   Open         High          Low        Close    Adj Close  \\\n",
       "Date                                                                          \n",
       "2012-05-18  1305.050049  1312.239990  1291.979980  1295.219971  1295.219971   \n",
       "2012-05-21  1295.729980  1316.390015  1295.729980  1315.989990  1315.989990   \n",
       "2012-05-22  1316.089966  1328.489990  1310.040039  1316.630005  1316.630005   \n",
       "2012-05-23  1316.020020  1320.709961  1296.530029  1318.859985  1318.859985   \n",
       "2012-05-24  1318.719971  1324.140015  1310.500000  1320.680054  1320.680054   \n",
       "...                 ...          ...          ...          ...          ...   \n",
       "2022-12-23  3815.110107  3845.800049  3797.010010  3844.820068  3844.820068   \n",
       "2022-12-27  3843.340088  3846.649902  3813.219971  3829.250000  3829.250000   \n",
       "2022-12-28  3829.560059  3848.320068  3780.780029  3783.219971  3783.219971   \n",
       "2022-12-29  3805.449951  3858.189941  3805.449951  3849.280029  3849.280029   \n",
       "2022-12-30  3829.060059  3839.850098  3800.340088  3839.500000  3839.500000   \n",
       "\n",
       "                Volume  \n",
       "Date                    \n",
       "2012-05-18  4512470000  \n",
       "2012-05-21  3786750000  \n",
       "2012-05-22  4123680000  \n",
       "2012-05-23  4108330000  \n",
       "2012-05-24  3937670000  \n",
       "...                ...  \n",
       "2022-12-23  2819280000  \n",
       "2022-12-27  3030300000  \n",
       "2022-12-28  3083520000  \n",
       "2022-12-29  3003680000  \n",
       "2022-12-30  2979870000  \n",
       "\n",
       "[2673 rows x 6 columns]"
      ]
     },
     "execution_count": 9,
     "metadata": {},
     "output_type": "execute_result"
    }
   ],
   "source": [
    "GSPC"
   ]
  },
  {
   "cell_type": "markdown",
   "id": "1f5d9c59",
   "metadata": {
    "id": "8bEuCjoZAcah",
    "papermill": {
     "duration": 0.022761,
     "end_time": "2023-08-28T14:25:23.708543",
     "exception": false,
     "start_time": "2023-08-28T14:25:23.685782",
     "status": "completed"
    },
    "tags": []
   },
   "source": [
    "# Exploratory Data Analysis (EDA)"
   ]
  },
  {
   "cell_type": "code",
   "execution_count": 10,
   "id": "dc125b9f",
   "metadata": {
    "execution": {
     "iopub.execute_input": "2023-08-28T14:25:23.894848Z",
     "iopub.status.busy": "2023-08-28T14:25:23.894065Z",
     "iopub.status.idle": "2023-08-28T14:25:23.903470Z",
     "shell.execute_reply": "2023-08-28T14:25:23.902192Z"
    },
    "id": "__PTHxqOC0_W",
    "outputId": "280b80f8-b59d-4922-c082-faa1d1336ba6",
    "papermill": {
     "duration": 0.036135,
     "end_time": "2023-08-28T14:25:23.905879",
     "exception": false,
     "start_time": "2023-08-28T14:25:23.869744",
     "status": "completed"
    },
    "tags": []
   },
   "outputs": [
    {
     "data": {
      "text/plain": [
       "Open         0\n",
       "High         0\n",
       "Low          0\n",
       "Close        0\n",
       "Adj Close    0\n",
       "Volume       0\n",
       "dtype: int64"
      ]
     },
     "execution_count": 10,
     "metadata": {},
     "output_type": "execute_result"
    }
   ],
   "source": [
    "GOOG.isnull().sum()"
   ]
  },
  {
   "cell_type": "code",
   "execution_count": 11,
   "id": "7001784a",
   "metadata": {
    "execution": {
     "iopub.execute_input": "2023-08-28T14:25:23.952696Z",
     "iopub.status.busy": "2023-08-28T14:25:23.951678Z",
     "iopub.status.idle": "2023-08-28T14:25:23.959934Z",
     "shell.execute_reply": "2023-08-28T14:25:23.958909Z"
    },
    "id": "I-e5TnbiDhMe",
    "outputId": "91db767d-20b7-422a-980d-1075ac039466",
    "papermill": {
     "duration": 0.0338,
     "end_time": "2023-08-28T14:25:23.962014",
     "exception": false,
     "start_time": "2023-08-28T14:25:23.928214",
     "status": "completed"
    },
    "tags": []
   },
   "outputs": [
    {
     "data": {
      "text/plain": [
       "Open         0\n",
       "High         0\n",
       "Low          0\n",
       "Close        0\n",
       "Adj Close    0\n",
       "Volume       0\n",
       "dtype: int64"
      ]
     },
     "execution_count": 11,
     "metadata": {},
     "output_type": "execute_result"
    }
   ],
   "source": [
    "AAPL.isnull().sum()"
   ]
  },
  {
   "cell_type": "code",
   "execution_count": 12,
   "id": "4159d351",
   "metadata": {
    "execution": {
     "iopub.execute_input": "2023-08-28T14:25:24.010233Z",
     "iopub.status.busy": "2023-08-28T14:25:24.008866Z",
     "iopub.status.idle": "2023-08-28T14:25:24.018235Z",
     "shell.execute_reply": "2023-08-28T14:25:24.017240Z"
    },
    "id": "TC11MytLDjKv",
    "outputId": "37331e0e-dfc5-4f76-ab45-bcf522460fdf",
    "papermill": {
     "duration": 0.035775,
     "end_time": "2023-08-28T14:25:24.020340",
     "exception": false,
     "start_time": "2023-08-28T14:25:23.984565",
     "status": "completed"
    },
    "tags": []
   },
   "outputs": [
    {
     "data": {
      "text/plain": [
       "Open         0\n",
       "High         0\n",
       "Low          0\n",
       "Close        0\n",
       "Adj Close    0\n",
       "Volume       0\n",
       "dtype: int64"
      ]
     },
     "execution_count": 12,
     "metadata": {},
     "output_type": "execute_result"
    }
   ],
   "source": [
    "META.isnull().sum()"
   ]
  },
  {
   "cell_type": "code",
   "execution_count": 13,
   "id": "09b6f434",
   "metadata": {
    "execution": {
     "iopub.execute_input": "2023-08-28T14:25:24.068547Z",
     "iopub.status.busy": "2023-08-28T14:25:24.068154Z",
     "iopub.status.idle": "2023-08-28T14:25:24.077278Z",
     "shell.execute_reply": "2023-08-28T14:25:24.076310Z"
    },
    "id": "-ZBCG5QWDkVz",
    "outputId": "5cf6144a-8da8-432f-d9b5-b47f6fdeee2a",
    "papermill": {
     "duration": 0.035134,
     "end_time": "2023-08-28T14:25:24.079171",
     "exception": false,
     "start_time": "2023-08-28T14:25:24.044037",
     "status": "completed"
    },
    "tags": []
   },
   "outputs": [
    {
     "data": {
      "text/plain": [
       "Open         0\n",
       "High         0\n",
       "Low          0\n",
       "Close        0\n",
       "Adj Close    0\n",
       "Volume       0\n",
       "dtype: int64"
      ]
     },
     "execution_count": 13,
     "metadata": {},
     "output_type": "execute_result"
    }
   ],
   "source": [
    "AMZN.isnull().sum()"
   ]
  },
  {
   "cell_type": "code",
   "execution_count": 14,
   "id": "ab166310",
   "metadata": {
    "execution": {
     "iopub.execute_input": "2023-08-28T14:25:24.127655Z",
     "iopub.status.busy": "2023-08-28T14:25:24.126983Z",
     "iopub.status.idle": "2023-08-28T14:25:24.135492Z",
     "shell.execute_reply": "2023-08-28T14:25:24.134517Z"
    },
    "id": "SibIPV3pDmuu",
    "outputId": "474191fe-44cd-478b-8dd3-9a576bbcbc8d",
    "papermill": {
     "duration": 0.035445,
     "end_time": "2023-08-28T14:25:24.137992",
     "exception": false,
     "start_time": "2023-08-28T14:25:24.102547",
     "status": "completed"
    },
    "tags": []
   },
   "outputs": [
    {
     "data": {
      "text/plain": [
       "Open         0\n",
       "High         0\n",
       "Low          0\n",
       "Close        0\n",
       "Adj Close    0\n",
       "Volume       0\n",
       "dtype: int64"
      ]
     },
     "execution_count": 14,
     "metadata": {},
     "output_type": "execute_result"
    }
   ],
   "source": [
    "MSFT.isnull().sum()"
   ]
  },
  {
   "cell_type": "code",
   "execution_count": 15,
   "id": "f78ee047",
   "metadata": {
    "execution": {
     "iopub.execute_input": "2023-08-28T14:25:24.186452Z",
     "iopub.status.busy": "2023-08-28T14:25:24.186068Z",
     "iopub.status.idle": "2023-08-28T14:25:24.195887Z",
     "shell.execute_reply": "2023-08-28T14:25:24.193897Z"
    },
    "id": "YQDTbBzkKhaA",
    "outputId": "17cc8e7e-1002-4658-a587-c13795da5540",
    "papermill": {
     "duration": 0.037183,
     "end_time": "2023-08-28T14:25:24.198312",
     "exception": false,
     "start_time": "2023-08-28T14:25:24.161129",
     "status": "completed"
    },
    "tags": []
   },
   "outputs": [
    {
     "data": {
      "text/plain": [
       "Open         0\n",
       "High         0\n",
       "Low          0\n",
       "Close        0\n",
       "Adj Close    0\n",
       "Volume       0\n",
       "dtype: int64"
      ]
     },
     "execution_count": 15,
     "metadata": {},
     "output_type": "execute_result"
    }
   ],
   "source": [
    "GSPC.isnull().sum()"
   ]
  },
  {
   "cell_type": "code",
   "execution_count": 16,
   "id": "5c3e437a",
   "metadata": {
    "execution": {
     "iopub.execute_input": "2023-08-28T14:25:24.295400Z",
     "iopub.status.busy": "2023-08-28T14:25:24.295001Z",
     "iopub.status.idle": "2023-08-28T14:25:24.313072Z",
     "shell.execute_reply": "2023-08-28T14:25:24.311922Z"
    },
    "id": "F7pbsN6CWMnu",
    "outputId": "4d2a8bf0-8d8d-47f0-db17-96c2f1c18b6e",
    "papermill": {
     "duration": 0.046136,
     "end_time": "2023-08-28T14:25:24.315523",
     "exception": false,
     "start_time": "2023-08-28T14:25:24.269387",
     "status": "completed"
    },
    "tags": []
   },
   "outputs": [
    {
     "data": {
      "text/html": [
       "<div>\n",
       "<style scoped>\n",
       "    .dataframe tbody tr th:only-of-type {\n",
       "        vertical-align: middle;\n",
       "    }\n",
       "\n",
       "    .dataframe tbody tr th {\n",
       "        vertical-align: top;\n",
       "    }\n",
       "\n",
       "    .dataframe thead th {\n",
       "        text-align: right;\n",
       "    }\n",
       "</style>\n",
       "<table border=\"1\" class=\"dataframe\">\n",
       "  <thead>\n",
       "    <tr style=\"text-align: right;\">\n",
       "      <th></th>\n",
       "      <th>GOOG</th>\n",
       "      <th>AAPL</th>\n",
       "      <th>META</th>\n",
       "      <th>AMZN</th>\n",
       "      <th>MSFT</th>\n",
       "      <th>GSPC</th>\n",
       "    </tr>\n",
       "    <tr>\n",
       "      <th>Date</th>\n",
       "      <th></th>\n",
       "      <th></th>\n",
       "      <th></th>\n",
       "      <th></th>\n",
       "      <th></th>\n",
       "      <th></th>\n",
       "    </tr>\n",
       "  </thead>\n",
       "  <tbody>\n",
       "    <tr>\n",
       "      <th>2012-05-18</th>\n",
       "      <td>14.953949</td>\n",
       "      <td>18.942142</td>\n",
       "      <td>38.230000</td>\n",
       "      <td>10.6925</td>\n",
       "      <td>29.270000</td>\n",
       "      <td>1295.219971</td>\n",
       "    </tr>\n",
       "    <tr>\n",
       "      <th>2012-05-21</th>\n",
       "      <td>15.295419</td>\n",
       "      <td>20.045713</td>\n",
       "      <td>34.029999</td>\n",
       "      <td>10.9055</td>\n",
       "      <td>29.750000</td>\n",
       "      <td>1315.989990</td>\n",
       "    </tr>\n",
       "    <tr>\n",
       "      <th>2012-05-22</th>\n",
       "      <td>14.963912</td>\n",
       "      <td>19.891787</td>\n",
       "      <td>31.000000</td>\n",
       "      <td>10.7665</td>\n",
       "      <td>29.760000</td>\n",
       "      <td>1316.630005</td>\n",
       "    </tr>\n",
       "    <tr>\n",
       "      <th>2012-05-23</th>\n",
       "      <td>15.179603</td>\n",
       "      <td>20.377144</td>\n",
       "      <td>32.000000</td>\n",
       "      <td>10.8640</td>\n",
       "      <td>29.110001</td>\n",
       "      <td>1318.859985</td>\n",
       "    </tr>\n",
       "    <tr>\n",
       "      <th>2012-05-24</th>\n",
       "      <td>15.035145</td>\n",
       "      <td>20.190001</td>\n",
       "      <td>33.029999</td>\n",
       "      <td>10.7620</td>\n",
       "      <td>29.070000</td>\n",
       "      <td>1320.680054</td>\n",
       "    </tr>\n",
       "  </tbody>\n",
       "</table>\n",
       "</div>"
      ],
      "text/plain": [
       "                 GOOG       AAPL       META     AMZN       MSFT         GSPC\n",
       "Date                                                                        \n",
       "2012-05-18  14.953949  18.942142  38.230000  10.6925  29.270000  1295.219971\n",
       "2012-05-21  15.295419  20.045713  34.029999  10.9055  29.750000  1315.989990\n",
       "2012-05-22  14.963912  19.891787  31.000000  10.7665  29.760000  1316.630005\n",
       "2012-05-23  15.179603  20.377144  32.000000  10.8640  29.110001  1318.859985\n",
       "2012-05-24  15.035145  20.190001  33.029999  10.7620  29.070000  1320.680054"
      ]
     },
     "execution_count": 16,
     "metadata": {},
     "output_type": "execute_result"
    }
   ],
   "source": [
    "#Combining dataframes\n",
    "dataset = pd.concat([GOOG.Close, AAPL.Close,META.Close,AMZN.Close, MSFT.Close,GSPC.Close],axis=1)\n",
    "# Change the column names\n",
    "dataset.columns =['GOOG', 'AAPL', 'META','AMZN','MSFT','GSPC']\n",
    "dataset.head()"
   ]
  },
  {
   "cell_type": "code",
   "execution_count": 17,
   "id": "b629a2d2",
   "metadata": {
    "execution": {
     "iopub.execute_input": "2023-08-28T14:25:24.364583Z",
     "iopub.status.busy": "2023-08-28T14:25:24.364135Z",
     "iopub.status.idle": "2023-08-28T14:25:24.369991Z",
     "shell.execute_reply": "2023-08-28T14:25:24.368693Z"
    },
    "id": "XJqTPOGUWRoi",
    "outputId": "a6a1c609-3de2-4f2e-dcd6-9f04e3832761",
    "papermill": {
     "duration": 0.032598,
     "end_time": "2023-08-28T14:25:24.372122",
     "exception": false,
     "start_time": "2023-08-28T14:25:24.339524",
     "status": "completed"
    },
    "tags": []
   },
   "outputs": [
    {
     "name": "stdout",
     "output_type": "stream",
     "text": [
      "Shape of data (2673, 6)\n"
     ]
    }
   ],
   "source": [
    "print('Shape of data',dataset.shape)"
   ]
  },
  {
   "cell_type": "code",
   "execution_count": 18,
   "id": "01221a33",
   "metadata": {
    "execution": {
     "iopub.execute_input": "2023-08-28T14:25:24.470583Z",
     "iopub.status.busy": "2023-08-28T14:25:24.469984Z",
     "iopub.status.idle": "2023-08-28T14:25:25.301064Z",
     "shell.execute_reply": "2023-08-28T14:25:25.299855Z"
    },
    "id": "fUS8d2VEKhaA",
    "outputId": "de78650e-7250-41f5-c23b-3b5f61cd66b8",
    "papermill": {
     "duration": 0.860252,
     "end_time": "2023-08-28T14:25:25.303329",
     "exception": false,
     "start_time": "2023-08-28T14:25:24.443077",
     "status": "completed"
    },
    "tags": []
   },
   "outputs": [
    {
     "data": {
      "text/html": [
       "\n",
       "        <iframe\n",
       "            width=\"100%\"\n",
       "            height=\"600\"\n",
       "            src=\"http://localhost:54714\"\n",
       "            frameborder=\"0\"\n",
       "            allowfullscreen\n",
       "            \n",
       "        ></iframe>\n",
       "        "
      ],
      "text/plain": [
       "<IPython.lib.display.IFrame at 0x1fbc08d7e00>"
      ]
     },
     "execution_count": 18,
     "metadata": {},
     "output_type": "execute_result"
    },
    {
     "name": "stderr",
     "output_type": "stream",
     "text": [
      "127.0.0.1 - - [08/Aug/2024 13:04:47] \"GET / HTTP/1.1\" 200 -\n"
     ]
    }
   ],
   "source": [
    "# BoxPlot using Lightning Chart\n",
    "# Selecting all columns for the box plot\n",
    "selected_stocks = ['GOOG', 'AAPL', 'META', 'AMZN', 'MSFT']\n",
    "\n",
    "# Convert DataFrame into a list of lists for LightningChart\n",
    "data_for_lc = dataset[selected_stocks]\n",
    "\n",
    "# Creating the box plot with LightningChart\n",
    "chart = lc.BoxPlot(\n",
    "    data=data_for_lc,\n",
    "    theme=lc.Themes.Dark,\n",
    "    title='Boxplot of Stock Prices (Google, Apple, Facebook, Amazon, Microsoft)',\n",
    "    ylabel='Price ($)'\n",
    ")\n",
    "\n",
    "# Display the chart\n",
    "chart.open()"
   ]
  },
  {
   "cell_type": "markdown",
   "id": "976266f2",
   "metadata": {
    "id": "YC102h__Frx_",
    "papermill": {
     "duration": 0.04112,
     "end_time": "2023-08-28T14:25:28.494201",
     "exception": false,
     "start_time": "2023-08-28T14:25:28.453081",
     "status": "completed"
    },
    "tags": []
   },
   "source": [
    "## Visualization of the closing prices for each business"
   ]
  },
  {
   "cell_type": "code",
   "execution_count": 19,
   "id": "5745c0d5",
   "metadata": {
    "execution": {
     "iopub.execute_input": "2023-08-28T14:25:28.672287Z",
     "iopub.status.busy": "2023-08-28T14:25:28.671882Z",
     "iopub.status.idle": "2023-08-28T14:25:29.854063Z",
     "shell.execute_reply": "2023-08-28T14:25:29.852876Z"
    },
    "id": "jj0hfrn_pLkK",
    "outputId": "68caf31d-c696-488f-b2f1-db7a999439d7",
    "papermill": {
     "duration": 1.230954,
     "end_time": "2023-08-28T14:25:29.861198",
     "exception": false,
     "start_time": "2023-08-28T14:25:28.630244",
     "status": "completed"
    },
    "tags": []
   },
   "outputs": [
    {
     "data": {
      "text/html": [
       "\n",
       "        <iframe\n",
       "            width=\"100%\"\n",
       "            height=\"600\"\n",
       "            src=\"http://localhost:54715\"\n",
       "            frameborder=\"0\"\n",
       "            allowfullscreen\n",
       "            \n",
       "        ></iframe>\n",
       "        "
      ],
      "text/plain": [
       "<IPython.lib.display.IFrame at 0x1fbbf4fd0a0>"
      ]
     },
     "execution_count": 19,
     "metadata": {},
     "output_type": "execute_result"
    },
    {
     "name": "stderr",
     "output_type": "stream",
     "text": [
      "127.0.0.1 - - [08/Aug/2024 13:04:47] \"GET / HTTP/1.1\" 200 -\n"
     ]
    }
   ],
   "source": [
    "# Convert dates to timestamps for x-axis\n",
    "dataset['Timestamp'] = dataset.index.map(lambda x: x.timestamp() * 1000)\n",
    "\n",
    "# Initialize the ChartXY\n",
    "chart = lc.ChartXY(\n",
    "    theme=lc.Themes.Dark,\n",
    "    title='Daily Close Prices of GAFAM'\n",
    ")\n",
    "\n",
    "# Configure Axes\n",
    "x_axis = chart.get_default_x_axis()\n",
    "x_axis.set_interval(\n",
    "    start=dataset['Timestamp'].min(),\n",
    "    end=dataset['Timestamp'].max()\n",
    ")\n",
    "chart.get_default_y_axis().set_title('Values')\n",
    "\n",
    "# Add Line Series for Each Company\n",
    "colors = {\n",
    "    'GOOG': lc.Color(255, 0, 0),     # Red\n",
    "    'AAPL': lc.Color(255, 255, 255), # White\n",
    "    'META': lc.Color(0, 255, 255),   # Aqua\n",
    "    'AMZN': lc.Color(255, 165, 0),   # Orange\n",
    "    'MSFT': lc.Color(0, 128, 0)      # Green\n",
    "}\n",
    "\n",
    "# Adding line series to the chart\n",
    "line_series_list = []\n",
    "for stock in ['GOOG', 'AAPL', 'META', 'AMZN', 'MSFT']:\n",
    "    line_series = chart.add_line_series()\n",
    "    line_series.set_name(stock)\n",
    "    line_series.set_line_color(colors[stock])\n",
    "    dates = dataset['Timestamp'].tolist()\n",
    "    values = dataset[stock].tolist()\n",
    "    line_series.add(dates, values)\n",
    "    line_series_list.append(line_series)\n",
    "\n",
    "# Adding and configuring the legend\n",
    "legend = chart.add_legend()\n",
    "for series in line_series_list:\n",
    "    legend.add(series)\n",
    "\n",
    "# Configure the x-axis to display datetime\n",
    "try:\n",
    "    x_axis.set_tick_strategy(\"DateTime\")\n",
    "    x_axis.set_interval(\n",
    "        start=dataset['Timestamp'].min(), \n",
    "        end=dataset['Timestamp'].max()\n",
    "    )\n",
    "except AttributeError:\n",
    "    print(\"Custom tick labels are not directly supported in this context.\")\n",
    "\n",
    "# Display the chart\n",
    "chart.open()"
   ]
  },
  {
   "cell_type": "code",
   "execution_count": 20,
   "id": "568824f0",
   "metadata": {
    "execution": {
     "iopub.execute_input": "2023-08-28T14:25:29.964218Z",
     "iopub.status.busy": "2023-08-28T14:25:29.963827Z",
     "iopub.status.idle": "2023-08-28T14:25:30.960420Z",
     "shell.execute_reply": "2023-08-28T14:25:30.959279Z"
    },
    "id": "ITelOukYKhaC",
    "outputId": "471bacaa-d82e-47c6-d3ec-a612b97a190e",
    "papermill": {
     "duration": 1.051395,
     "end_time": "2023-08-28T14:25:30.963832",
     "exception": false,
     "start_time": "2023-08-28T14:25:29.912437",
     "status": "completed"
    },
    "tags": []
   },
   "outputs": [
    {
     "name": "stderr",
     "output_type": "stream",
     "text": [
      "[*********************100%%**********************]  1 of 1 completed\n"
     ]
    },
    {
     "data": {
      "text/html": [
       "\n",
       "        <iframe\n",
       "            width=\"100%\"\n",
       "            height=\"600\"\n",
       "            src=\"http://localhost:54716\"\n",
       "            frameborder=\"0\"\n",
       "            allowfullscreen\n",
       "            \n",
       "        ></iframe>\n",
       "        "
      ],
      "text/plain": [
       "<IPython.lib.display.IFrame at 0x1fbbf4fd820>"
      ]
     },
     "execution_count": 20,
     "metadata": {},
     "output_type": "execute_result"
    },
    {
     "name": "stderr",
     "output_type": "stream",
     "text": [
      "127.0.0.1 - - [08/Aug/2024 13:04:47] \"GET / HTTP/1.1\" 200 -\n"
     ]
    }
   ],
   "source": [
    "# Fetching stock data for S&P 500 using the correct ticker symbol\n",
    "data = yf.download('^GSPC', start=\"2012-05-18\", end=\"2022-12-30\")\n",
    "\n",
    "# Ensure that 'data' is a DataFrame and contains the 'Close' column\n",
    "if 'Close' in data.columns:\n",
    "    data['Timestamp'] = data.index.map(lambda x: x.timestamp() * 1000)  # Convert index to timestamp\n",
    "\n",
    "    \n",
    "# Initialize the ChartXY\n",
    "chart = lc.ChartXY(\n",
    "    theme=lc.Themes.Dark,\n",
    "    title='Daily Close Prices of S&P 500'\n",
    ")\n",
    "\n",
    "# Configure Axes\n",
    "x_axis = chart.get_default_x_axis()\n",
    "x_axis.set_interval(\n",
    "    start=data['Timestamp'].min(),\n",
    "    end=data['Timestamp'].max()\n",
    ")\n",
    "chart.get_default_y_axis().set_title('Values')\n",
    "\n",
    "# Add Line Series for S&P 500\n",
    "line_series = chart.add_line_series()\n",
    "line_series.set_name('S&P 500')\n",
    "line_series.set_line_color(lc.Color(255, 0, 255))  # Fuchsia color\n",
    "dates = data['Timestamp'].tolist()\n",
    "values = data['Close'].tolist()\n",
    "line_series.add(dates, values)\n",
    "\n",
    "# Adding and configuring the legend\n",
    "legend = chart.add_legend()\n",
    "legend.add(line_series)\n",
    "\n",
    "# Configure the x-axis to display datetime\n",
    "try:\n",
    "    x_axis.set_tick_strategy(\"DateTime\")\n",
    "    x_axis.set_interval(\n",
    "        start=data['Timestamp'].min(), \n",
    "        end=data['Timestamp'].max()\n",
    "    )\n",
    "except AttributeError:\n",
    "    print(\"Custom tick labels are not directly supported in this context.\")\n",
    "\n",
    "# Display the chart\n",
    "chart.open()"
   ]
  },
  {
   "cell_type": "markdown",
   "id": "862ab5cb",
   "metadata": {
    "id": "2x3biMACw7fC",
    "papermill": {
     "duration": 0.051954,
     "end_time": "2023-08-28T14:25:31.176582",
     "exception": false,
     "start_time": "2023-08-28T14:25:31.124628",
     "status": "completed"
    },
    "tags": []
   },
   "source": [
    "## Standard risk measure: Volatility (Returns)\n",
    "\n"
   ]
  },
  {
   "cell_type": "code",
   "execution_count": 21,
   "id": "43974609",
   "metadata": {
    "execution": {
     "iopub.execute_input": "2023-08-28T14:25:31.694328Z",
     "iopub.status.busy": "2023-08-28T14:25:31.693551Z",
     "iopub.status.idle": "2023-08-28T14:25:31.724212Z",
     "shell.execute_reply": "2023-08-28T14:25:31.723369Z"
    },
    "id": "Kn2RDvaFtj50",
    "outputId": "da1dcdc0-da7c-4420-aed4-3d1441773530",
    "papermill": {
     "duration": 0.086168,
     "end_time": "2023-08-28T14:25:31.726302",
     "exception": false,
     "start_time": "2023-08-28T14:25:31.640134",
     "status": "completed"
    },
    "tags": []
   },
   "outputs": [
    {
     "data": {
      "text/plain": [
       "<bound method NDFrame.head of                  GOOG        AAPL        META       AMZN        MSFT  \\\n",
       "Date                                                                   \n",
       "2012-05-18  14.953949   18.942142   38.230000  10.692500   29.270000   \n",
       "2012-05-21  15.295419   20.045713   34.029999  10.905500   29.750000   \n",
       "2012-05-22  14.963912   19.891787   31.000000  10.766500   29.760000   \n",
       "2012-05-23  15.179603   20.377144   32.000000  10.864000   29.110001   \n",
       "2012-05-24  15.035145   20.190001   33.029999  10.762000   29.070000   \n",
       "...               ...         ...         ...        ...         ...   \n",
       "2022-12-23  89.809998  131.860001  118.040001  85.250000  238.729996   \n",
       "2022-12-27  87.930000  130.029999  116.879997  83.040001  236.960007   \n",
       "2022-12-28  86.459999  126.040001  115.620003  81.820000  234.529999   \n",
       "2022-12-29  88.949997  129.610001  120.260002  84.180000  241.009995   \n",
       "2022-12-30  88.730003  129.929993  120.339996  84.000000  239.820007   \n",
       "\n",
       "                   GSPC     Timestamp    R_GOOG    R_AAPL    R_META    R_AMZN  \\\n",
       "Date                                                                            \n",
       "2012-05-18  1295.219971  1.337299e+12       NaN       NaN       NaN       NaN   \n",
       "2012-05-21  1315.989990  1.337558e+12  0.022835  0.058260 -0.109861  0.019921   \n",
       "2012-05-22  1316.630005  1.337645e+12 -0.021674 -0.007679 -0.089039 -0.012746   \n",
       "2012-05-23  1318.859985  1.337731e+12  0.014414  0.024400  0.032258  0.009056   \n",
       "2012-05-24  1320.680054  1.337818e+12 -0.009517 -0.009184  0.032187 -0.009389   \n",
       "...                 ...           ...       ...       ...       ...       ...   \n",
       "2022-12-23  3844.820068  1.671754e+12  0.017562 -0.002798  0.007855  0.017425   \n",
       "2022-12-27  3829.250000  1.672099e+12 -0.020933 -0.013878 -0.009827 -0.025924   \n",
       "2022-12-28  3783.219971  1.672186e+12 -0.016718 -0.030685 -0.010780 -0.014692   \n",
       "2022-12-29  3849.280029  1.672272e+12  0.028799  0.028324  0.040131  0.028844   \n",
       "2022-12-30  3839.500000  1.672358e+12 -0.002473  0.002469  0.000665 -0.002138   \n",
       "\n",
       "              R_MSFT    R_GSPC  \n",
       "Date                            \n",
       "2012-05-18       NaN       NaN  \n",
       "2012-05-21  0.016399  0.016036  \n",
       "2012-05-22  0.000336  0.000486  \n",
       "2012-05-23 -0.021841  0.001694  \n",
       "2012-05-24 -0.001374  0.001380  \n",
       "...              ...       ...  \n",
       "2022-12-23  0.002267  0.005868  \n",
       "2022-12-27 -0.007414 -0.004050  \n",
       "2022-12-28 -0.010255 -0.012021  \n",
       "2022-12-29  0.027630  0.017461  \n",
       "2022-12-30 -0.004938 -0.002541  \n",
       "\n",
       "[2673 rows x 13 columns]>"
      ]
     },
     "execution_count": 21,
     "metadata": {},
     "output_type": "execute_result"
    }
   ],
   "source": [
    "#Create a new columns Return in the dataset for each company's\n",
    "dataset['R_GOOG'] = dataset[['GOOG']].pct_change(1)\n",
    "dataset['R_AAPL'] = dataset[['AAPL']].pct_change(1)\n",
    "dataset['R_META'] = dataset[['META']].pct_change(1)\n",
    "dataset['R_AMZN'] = dataset[['AMZN']].pct_change(1)\n",
    "dataset['R_MSFT'] = dataset[['MSFT']].pct_change(1)\n",
    "dataset['R_GSPC'] = dataset[['GSPC']].pct_change(1)\n",
    "dataset.head"
   ]
  },
  {
   "cell_type": "code",
   "execution_count": 22,
   "id": "3ba19731",
   "metadata": {
    "execution": {
     "iopub.execute_input": "2023-08-28T14:25:31.832009Z",
     "iopub.status.busy": "2023-08-28T14:25:31.831031Z",
     "iopub.status.idle": "2023-08-28T14:25:31.882343Z",
     "shell.execute_reply": "2023-08-28T14:25:31.881169Z"
    },
    "id": "RSV_1cTMtGXg",
    "outputId": "1ed67313-3639-431c-b3f3-38650bc6defe",
    "papermill": {
     "duration": 0.107461,
     "end_time": "2023-08-28T14:25:31.884704",
     "exception": false,
     "start_time": "2023-08-28T14:25:31.777243",
     "status": "completed"
    },
    "tags": []
   },
   "outputs": [
    {
     "data": {
      "text/html": [
       "<div>\n",
       "<style scoped>\n",
       "    .dataframe tbody tr th:only-of-type {\n",
       "        vertical-align: middle;\n",
       "    }\n",
       "\n",
       "    .dataframe tbody tr th {\n",
       "        vertical-align: top;\n",
       "    }\n",
       "\n",
       "    .dataframe thead th {\n",
       "        text-align: right;\n",
       "    }\n",
       "</style>\n",
       "<table border=\"1\" class=\"dataframe\">\n",
       "  <thead>\n",
       "    <tr style=\"text-align: right;\">\n",
       "      <th></th>\n",
       "      <th>GOOG</th>\n",
       "      <th>AAPL</th>\n",
       "      <th>META</th>\n",
       "      <th>AMZN</th>\n",
       "      <th>MSFT</th>\n",
       "      <th>GSPC</th>\n",
       "      <th>Timestamp</th>\n",
       "      <th>R_GOOG</th>\n",
       "      <th>R_AAPL</th>\n",
       "      <th>R_META</th>\n",
       "      <th>R_AMZN</th>\n",
       "      <th>R_MSFT</th>\n",
       "      <th>R_GSPC</th>\n",
       "    </tr>\n",
       "  </thead>\n",
       "  <tbody>\n",
       "    <tr>\n",
       "      <th>count</th>\n",
       "      <td>2673.000000</td>\n",
       "      <td>2673.000000</td>\n",
       "      <td>2673.000000</td>\n",
       "      <td>2673.000000</td>\n",
       "      <td>2673.000000</td>\n",
       "      <td>2673.000000</td>\n",
       "      <td>2.673000e+03</td>\n",
       "      <td>2672.000000</td>\n",
       "      <td>2672.000000</td>\n",
       "      <td>2672.000000</td>\n",
       "      <td>2672.000000</td>\n",
       "      <td>2672.000000</td>\n",
       "      <td>2672.000000</td>\n",
       "    </tr>\n",
       "    <tr>\n",
       "      <th>mean</th>\n",
       "      <td>56.827974</td>\n",
       "      <td>60.044056</td>\n",
       "      <td>147.991912</td>\n",
       "      <td>70.188333</td>\n",
       "      <td>116.448706</td>\n",
       "      <td>2664.394164</td>\n",
       "      <td>1.505026e+12</td>\n",
       "      <td>0.000809</td>\n",
       "      <td>0.000889</td>\n",
       "      <td>0.000751</td>\n",
       "      <td>0.000978</td>\n",
       "      <td>0.000930</td>\n",
       "      <td>0.000467</td>\n",
       "    </tr>\n",
       "    <tr>\n",
       "      <th>std</th>\n",
       "      <td>35.578551</td>\n",
       "      <td>48.235577</td>\n",
       "      <td>86.999128</td>\n",
       "      <td>53.709630</td>\n",
       "      <td>89.866126</td>\n",
       "      <td>904.069600</td>\n",
       "      <td>9.674596e+10</td>\n",
       "      <td>0.016898</td>\n",
       "      <td>0.018314</td>\n",
       "      <td>0.025274</td>\n",
       "      <td>0.020336</td>\n",
       "      <td>0.016856</td>\n",
       "      <td>0.010953</td>\n",
       "    </tr>\n",
       "    <tr>\n",
       "      <th>min</th>\n",
       "      <td>13.924059</td>\n",
       "      <td>13.947500</td>\n",
       "      <td>17.730000</td>\n",
       "      <td>10.411000</td>\n",
       "      <td>26.370001</td>\n",
       "      <td>1278.040039</td>\n",
       "      <td>1.337299e+12</td>\n",
       "      <td>-0.111008</td>\n",
       "      <td>-0.128647</td>\n",
       "      <td>-0.263901</td>\n",
       "      <td>-0.140494</td>\n",
       "      <td>-0.147390</td>\n",
       "      <td>-0.119841</td>\n",
       "    </tr>\n",
       "    <tr>\n",
       "      <th>25%</th>\n",
       "      <td>28.241163</td>\n",
       "      <td>24.965000</td>\n",
       "      <td>77.830002</td>\n",
       "      <td>18.938499</td>\n",
       "      <td>44.830002</td>\n",
       "      <td>1989.569946</td>\n",
       "      <td>1.421280e+12</td>\n",
       "      <td>-0.006764</td>\n",
       "      <td>-0.007677</td>\n",
       "      <td>-0.010112</td>\n",
       "      <td>-0.008609</td>\n",
       "      <td>-0.006850</td>\n",
       "      <td>-0.003640</td>\n",
       "    </tr>\n",
       "    <tr>\n",
       "      <th>50%</th>\n",
       "      <td>47.955502</td>\n",
       "      <td>38.867500</td>\n",
       "      <td>142.279999</td>\n",
       "      <td>49.758499</td>\n",
       "      <td>74.190002</td>\n",
       "      <td>2473.449951</td>\n",
       "      <td>1.505088e+12</td>\n",
       "      <td>0.000688</td>\n",
       "      <td>0.000671</td>\n",
       "      <td>0.000870</td>\n",
       "      <td>0.000916</td>\n",
       "      <td>0.000681</td>\n",
       "      <td>0.000594</td>\n",
       "    </tr>\n",
       "    <tr>\n",
       "      <th>75%</th>\n",
       "      <td>71.591003</td>\n",
       "      <td>79.722504</td>\n",
       "      <td>191.289993</td>\n",
       "      <td>100.495003</td>\n",
       "      <td>183.429993</td>\n",
       "      <td>3197.520020</td>\n",
       "      <td>1.588810e+12</td>\n",
       "      <td>0.008903</td>\n",
       "      <td>0.010434</td>\n",
       "      <td>0.012629</td>\n",
       "      <td>0.011109</td>\n",
       "      <td>0.009257</td>\n",
       "      <td>0.005426</td>\n",
       "    </tr>\n",
       "    <tr>\n",
       "      <th>max</th>\n",
       "      <td>150.709000</td>\n",
       "      <td>182.009995</td>\n",
       "      <td>382.179993</td>\n",
       "      <td>186.570496</td>\n",
       "      <td>343.109985</td>\n",
       "      <td>4796.560059</td>\n",
       "      <td>1.672358e+12</td>\n",
       "      <td>0.160524</td>\n",
       "      <td>0.119808</td>\n",
       "      <td>0.296115</td>\n",
       "      <td>0.141311</td>\n",
       "      <td>0.142169</td>\n",
       "      <td>0.093828</td>\n",
       "    </tr>\n",
       "  </tbody>\n",
       "</table>\n",
       "</div>"
      ],
      "text/plain": [
       "              GOOG         AAPL         META         AMZN         MSFT  \\\n",
       "count  2673.000000  2673.000000  2673.000000  2673.000000  2673.000000   \n",
       "mean     56.827974    60.044056   147.991912    70.188333   116.448706   \n",
       "std      35.578551    48.235577    86.999128    53.709630    89.866126   \n",
       "min      13.924059    13.947500    17.730000    10.411000    26.370001   \n",
       "25%      28.241163    24.965000    77.830002    18.938499    44.830002   \n",
       "50%      47.955502    38.867500   142.279999    49.758499    74.190002   \n",
       "75%      71.591003    79.722504   191.289993   100.495003   183.429993   \n",
       "max     150.709000   182.009995   382.179993   186.570496   343.109985   \n",
       "\n",
       "              GSPC     Timestamp       R_GOOG       R_AAPL       R_META  \\\n",
       "count  2673.000000  2.673000e+03  2672.000000  2672.000000  2672.000000   \n",
       "mean   2664.394164  1.505026e+12     0.000809     0.000889     0.000751   \n",
       "std     904.069600  9.674596e+10     0.016898     0.018314     0.025274   \n",
       "min    1278.040039  1.337299e+12    -0.111008    -0.128647    -0.263901   \n",
       "25%    1989.569946  1.421280e+12    -0.006764    -0.007677    -0.010112   \n",
       "50%    2473.449951  1.505088e+12     0.000688     0.000671     0.000870   \n",
       "75%    3197.520020  1.588810e+12     0.008903     0.010434     0.012629   \n",
       "max    4796.560059  1.672358e+12     0.160524     0.119808     0.296115   \n",
       "\n",
       "            R_AMZN       R_MSFT       R_GSPC  \n",
       "count  2672.000000  2672.000000  2672.000000  \n",
       "mean      0.000978     0.000930     0.000467  \n",
       "std       0.020336     0.016856     0.010953  \n",
       "min      -0.140494    -0.147390    -0.119841  \n",
       "25%      -0.008609    -0.006850    -0.003640  \n",
       "50%       0.000916     0.000681     0.000594  \n",
       "75%       0.011109     0.009257     0.005426  \n",
       "max       0.141311     0.142169     0.093828  "
      ]
     },
     "execution_count": 22,
     "metadata": {},
     "output_type": "execute_result"
    }
   ],
   "source": [
    "dataset.describe()"
   ]
  },
  {
   "cell_type": "code",
   "execution_count": 23,
   "id": "1f989440",
   "metadata": {
    "execution": {
     "iopub.execute_input": "2023-08-28T14:25:31.992613Z",
     "iopub.status.busy": "2023-08-28T14:25:31.991995Z",
     "iopub.status.idle": "2023-08-28T14:25:32.001399Z",
     "shell.execute_reply": "2023-08-28T14:25:32.000563Z"
    },
    "id": "vnX9yNNyKhaE",
    "outputId": "addf4ecf-0deb-48e4-b817-ed31efb4d6c4",
    "papermill": {
     "duration": 0.065912,
     "end_time": "2023-08-28T14:25:32.003424",
     "exception": false,
     "start_time": "2023-08-28T14:25:31.937512",
     "status": "completed"
    },
    "tags": []
   },
   "outputs": [
    {
     "data": {
      "text/plain": [
       "R_GOOG    0.016898\n",
       "R_AAPL    0.018314\n",
       "R_META    0.025274\n",
       "R_AMZN    0.020336\n",
       "R_MSFT    0.016856\n",
       "R_GSPC    0.010953\n",
       "dtype: float64"
      ]
     },
     "execution_count": 23,
     "metadata": {},
     "output_type": "execute_result"
    }
   ],
   "source": [
    "# Daily volatility (in %) of each stock\n",
    "dataset[['R_GOOG','R_AAPL','R_META','R_AMZN','R_MSFT', 'R_GSPC']].std()"
   ]
  },
  {
   "cell_type": "markdown",
   "id": "a507e6de",
   "metadata": {},
   "source": [
    "### Using Dashboard in different shapes using Lightning Chart"
   ]
  },
  {
   "cell_type": "code",
   "execution_count": 24,
   "id": "f9b14b62",
   "metadata": {},
   "outputs": [
    {
     "data": {
      "text/html": [
       "\n",
       "        <iframe\n",
       "            width=\"100%\"\n",
       "            height=\"350\"\n",
       "            src=\"http://localhost:54717\"\n",
       "            frameborder=\"0\"\n",
       "            allowfullscreen\n",
       "            \n",
       "        ></iframe>\n",
       "        "
      ],
      "text/plain": [
       "<IPython.lib.display.IFrame at 0x1fbc09af7a0>"
      ]
     },
     "execution_count": 24,
     "metadata": {},
     "output_type": "execute_result"
    },
    {
     "name": "stderr",
     "output_type": "stream",
     "text": [
      "127.0.0.1 - - [08/Aug/2024 14:42:32] \"GET / HTTP/1.1\" 200 -\n"
     ]
    }
   ],
   "source": [
    "from scipy.stats import gaussian_kde\n",
    "\n",
    "# Helper function to convert hex color to RGB and lighten colors for differentiation\n",
    "def hex_to_rgb(hex_color):\n",
    "    hex_color = hex_color.lstrip('#')\n",
    "    return tuple(int(hex_color[i:i+2], 16) for i in (0, 2, 4))\n",
    "\n",
    "def lighten_color(rgb, factor=0.5):\n",
    "    return tuple(int(c + (255 - c) * factor) for c in rgb)\n",
    "\n",
    "# Create the dashboard\n",
    "dashboard = lc.Dashboard(columns=2, rows=1, theme=lc.Themes.Dark)\n",
    "\n",
    "# Function to create charts for each stock\n",
    "def create_charts(stock_name, data, color):\n",
    "    # Prepare the data\n",
    "    returns_data = data.dropna()\n",
    "    timestamps = returns_data.index.to_pydatetime()  # Ensure it's in datetime format\n",
    "    timestamps_ms = [int(ts.timestamp() * 1000) for ts in timestamps]  # Convert to milliseconds since epoch\n",
    "    \n",
    "    # Calculate histogram and KDE for density plot\n",
    "    hist, bins = np.histogram(returns_data, bins=50, density=True)\n",
    "    bin_centers = 0.5 * (bins[1:] + bins[:-1])\n",
    "    x_range = np.linspace(returns_data.min(), returns_data.max(), 500)\n",
    "    kde_values = gaussian_kde(returns_data)(x_range)\n",
    "    \n",
    "    # Main color RGB\n",
    "    main_rgb = hex_to_rgb(color)\n",
    "    light_rgb = lighten_color(main_rgb, factor=0.7)\n",
    "\n",
    "    # Chart for daily returns\n",
    "    chart_returns = dashboard.ChartXY(column_index=0, row_index=0)\n",
    "    chart_returns.set_title(f'{stock_name} Daily Returns')\n",
    "    x_axis = chart_returns.get_default_x_axis()\n",
    "    x_axis.set_interval(\n",
    "        start=min(timestamps_ms), \n",
    "        end=max(timestamps_ms)\n",
    "    )\n",
    "    x_axis.set_tick_strategy(\"DateTime\")\n",
    "    series_returns = chart_returns.add_line_series()\n",
    "    series_returns.add(timestamps_ms, returns_data.tolist())\n",
    "    series_returns.set_line_thickness(1)  # Set the line thickness for daily returns\n",
    "\n",
    "    # Combined chart for histogram and density\n",
    "    chart_combined = dashboard.ChartXY(column_index=1, row_index=0)\n",
    "    chart_combined.set_title(f'{stock_name} Returns Analysis')\n",
    "    series_histogram = chart_combined.add_line_series()\n",
    "    for center, value in zip(bin_centers, hist):\n",
    "        start_x = center - (bin_centers[1] - bin_centers[0])/2\n",
    "        end_x = center + (bin_centers[1] - bin_centers[0])/2\n",
    "        series_histogram.add([start_x, center, end_x], [0, value, 0])\n",
    "        series_histogram.set_line_color(lc.Color(light_rgb[0], light_rgb[1], light_rgb[2]))\n",
    "    series_density = chart_combined.add_line_series()\n",
    "    series_density.add(x_range.tolist(), kde_values.tolist())\n",
    "    series_density.set_line_color(lc.Color(main_rgb[0], main_rgb[1], main_rgb[2]))\n",
    "    series_density.set_line_thickness(1)  # Set the line thickness for density plot\n",
    "\n",
    "# Add charts for Google\n",
    "create_charts(\"Google\", dataset['R_GOOG'], color=\"#FFBF00\")\n",
    "\n",
    "# Open the dashboard\n",
    "dashboard.open(height=350)"
   ]
  },
  {
   "cell_type": "code",
   "execution_count": 25,
   "id": "f55de473",
   "metadata": {},
   "outputs": [
    {
     "data": {
      "text/html": [
       "\n",
       "        <iframe\n",
       "            width=\"100%\"\n",
       "            height=\"600\"\n",
       "            src=\"http://localhost:54719\"\n",
       "            frameborder=\"0\"\n",
       "            allowfullscreen\n",
       "            \n",
       "        ></iframe>\n",
       "        "
      ],
      "text/plain": [
       "<IPython.lib.display.IFrame at 0x1fbc09fbcb0>"
      ]
     },
     "execution_count": 25,
     "metadata": {},
     "output_type": "execute_result"
    },
    {
     "name": "stderr",
     "output_type": "stream",
     "text": [
      "127.0.0.1 - - [08/Aug/2024 14:42:33] \"GET / HTTP/1.1\" 200 -\n"
     ]
    }
   ],
   "source": [
    "from scipy.stats import gaussian_kde\n",
    "\n",
    "# Helper function to convert hex color to RGB and lighten colors for differentiation\n",
    "def hex_to_rgb(hex_color):\n",
    "    hex_color = hex_color.lstrip('#')\n",
    "    return tuple(int(hex_color[i:i+2], 16) for i in (0, 2, 4))\n",
    "\n",
    "def lighten_color(rgb, factor=0.5):\n",
    "    return tuple(int(c + (255 - c) * factor) for c in rgb)\n",
    "\n",
    "# Create the dashboard\n",
    "dashboard = lc.Dashboard(columns=2, rows=2, theme=lc.Themes.Dark)\n",
    "\n",
    "# Function to create charts for each stock\n",
    "def create_charts(stock_name, data, column_index, color):\n",
    "    # Prepare the data\n",
    "    returns_data = data.dropna()\n",
    "    timestamps = returns_data.index.to_pydatetime()  # Ensure it's in datetime format\n",
    "    timestamps_ms = [int(ts.timestamp() * 1000) for ts in timestamps]  # Convert to milliseconds since epoch\n",
    "    \n",
    "    # Calculate histogram and KDE for density plot\n",
    "    hist, bins = np.histogram(returns_data, bins=50, density=True)\n",
    "    bin_centers = 0.5 * (bins[1:] + bins[:-1])\n",
    "    x_range = np.linspace(returns_data.min(), returns_data.max(), 500)\n",
    "    kde_values = gaussian_kde(returns_data)(x_range)\n",
    "    \n",
    "    # Main color RGB\n",
    "    main_rgb = hex_to_rgb(color)\n",
    "    light_rgb = lighten_color(main_rgb, factor=0.7)\n",
    "\n",
    "    # Chart for daily returns\n",
    "    chart_returns = dashboard.ChartXY(column_index=0, row_index=column_index)\n",
    "    chart_returns.set_title(f'{stock_name} Daily Returns')\n",
    "    x_axis = chart_returns.get_default_x_axis()\n",
    "    x_axis.set_interval(\n",
    "        start=min(timestamps_ms), \n",
    "        end=max(timestamps_ms)\n",
    "    )\n",
    "    x_axis.set_tick_strategy(\"DateTime\")\n",
    "    series_returns = chart_returns.add_line_series()\n",
    "    series_returns.add(timestamps_ms, returns_data.tolist())\n",
    "    series_returns.set_line_thickness(1)  # Set the line thickness for daily returns\n",
    "\n",
    "    # Combined chart for histogram and density\n",
    "    chart_combined = dashboard.ChartXY(column_index=1, row_index=column_index)\n",
    "    chart_combined.set_title(f'{stock_name} Returns Analysis')\n",
    "    series_histogram = chart_combined.add_line_series()\n",
    "    for center, value in zip(bin_centers, hist):\n",
    "        start_x = center - (bin_centers[1] - bin_centers[0])/2\n",
    "        end_x = center + (bin_centers[1] - bin_centers[0])/2\n",
    "        series_histogram.add([start_x, center, end_x], [0, value, 0])\n",
    "        series_histogram.set_line_color(lc.Color(light_rgb[0], light_rgb[1], light_rgb[2]))\n",
    "    series_density = chart_combined.add_line_series()\n",
    "    series_density.add(x_range.tolist(), kde_values.tolist())\n",
    "    series_density.set_line_color(lc.Color(main_rgb[0], main_rgb[1], main_rgb[2]))\n",
    "    series_density.set_line_thickness(1)  # Set the line thickness for density plot\n",
    "\n",
    "# Add charts for Google and Apple\n",
    "create_charts(\"Google\", dataset['R_GOOG'], column_index=0, color=\"#FFBF00\")\n",
    "create_charts(\"Apple\", dataset['R_AAPL'], column_index=1, color=\"#FFFF00\")\n",
    "\n",
    "# Open the dashboard\n",
    "dashboard.open()"
   ]
  },
  {
   "cell_type": "code",
   "execution_count": 26,
   "id": "1d16f383",
   "metadata": {},
   "outputs": [
    {
     "data": {
      "text/html": [
       "\n",
       "        <iframe\n",
       "            width=\"100%\"\n",
       "            height=\"2000\"\n",
       "            src=\"http://localhost:54720\"\n",
       "            frameborder=\"0\"\n",
       "            allowfullscreen\n",
       "            \n",
       "        ></iframe>\n",
       "        "
      ],
      "text/plain": [
       "<IPython.lib.display.IFrame at 0x1fbc0a0df10>"
      ]
     },
     "execution_count": 26,
     "metadata": {},
     "output_type": "execute_result"
    },
    {
     "name": "stderr",
     "output_type": "stream",
     "text": [
      "127.0.0.1 - - [08/Aug/2024 13:04:47] \"GET / HTTP/1.1\" 200 -\n"
     ]
    }
   ],
   "source": [
    "from scipy.stats import gaussian_kde\n",
    "\n",
    "# Helper function to convert hex color to RGB and lighten colors for differentiation\n",
    "def hex_to_rgb(hex_color):\n",
    "    hex_color = hex_color.lstrip('#')\n",
    "    return tuple(int(hex_color[i:i+2], 16) for i in (0, 2, 4))\n",
    "\n",
    "def lighten_color(rgb, factor=0.5):\n",
    "    return tuple(int(c + (255 - c) * factor) for c in rgb)\n",
    "\n",
    "# Create the dashboard\n",
    "dashboard = lc.Dashboard(columns=2, rows=6, theme=lc.Themes.Dark)\n",
    "\n",
    "# Function to create charts for each stock\n",
    "def create_charts(stock_name, data, column_index, row_index, color):\n",
    "    # Prepare the data\n",
    "    returns_data = data.dropna()\n",
    "    timestamps = returns_data.index.to_pydatetime()  # Ensure it's in datetime format\n",
    "    timestamps_ms = [int(ts.timestamp() * 1000) for ts in timestamps]  # Convert to milliseconds since epoch\n",
    "    \n",
    "    # Calculate histogram and KDE for density plot\n",
    "    hist, bins = np.histogram(returns_data, bins=50, density=True)\n",
    "    bin_centers = 0.5 * (bins[1:] + bins[:-1])\n",
    "    x_range = np.linspace(returns_data.min(), returns_data.max(), 500)\n",
    "    kde_values = gaussian_kde(returns_data)(x_range)\n",
    "    \n",
    "    # Main color RGB\n",
    "    main_rgb = hex_to_rgb(color)\n",
    "    light_rgb = lighten_color(main_rgb, factor=0.7)\n",
    "\n",
    "    # Chart for daily returns\n",
    "    chart_returns = dashboard.ChartXY(column_index=0, row_index=row_index)\n",
    "    chart_returns.set_title(f'{stock_name} Daily Returns')\n",
    "    x_axis = chart_returns.get_default_x_axis()\n",
    "    x_axis.set_interval(\n",
    "        start=min(timestamps_ms), \n",
    "        end=max(timestamps_ms)\n",
    "    )\n",
    "    x_axis.set_tick_strategy(\"DateTime\")\n",
    "    series_returns = chart_returns.add_line_series()\n",
    "    series_returns.add(timestamps_ms, returns_data.tolist())\n",
    "    series_returns.set_line_thickness(1)  # Set the line thickness for daily returns\n",
    "\n",
    "    # Combined chart for histogram and density\n",
    "    chart_combined = dashboard.ChartXY(column_index=1, row_index=row_index)\n",
    "    chart_combined.set_title(f'{stock_name} Returns Analysis')\n",
    "    series_histogram = chart_combined.add_line_series()\n",
    "    for center, value in zip(bin_centers, hist):\n",
    "        start_x = center - (bin_centers[1] - bin_centers[0])/2\n",
    "        end_x = center + (bin_centers[1] - bin_centers[0])/2\n",
    "        series_histogram.add([start_x, center, end_x], [0, value, 0])\n",
    "        series_histogram.set_line_color(lc.Color(light_rgb[0], light_rgb[1], light_rgb[2]))\n",
    "    series_density = chart_combined.add_line_series()\n",
    "    series_density.add(x_range.tolist(), kde_values.tolist())\n",
    "    series_density.set_line_color(lc.Color(main_rgb[0], main_rgb[1], main_rgb[2]))\n",
    "    series_density.set_line_thickness(1)  # Set the line thickness for density plot\n",
    "\n",
    "# Add charts for the companies\n",
    "create_charts(\"Google\", dataset['R_GOOG'], column_index=0, row_index=0, color=\"#FFBF00\")\n",
    "create_charts(\"Apple\", dataset['R_AAPL'], column_index=0, row_index=1, color=\"#FFFF00\")\n",
    "create_charts(\"Meta\", dataset['R_META'], column_index=0, row_index=2, color=\"#FF0000\")\n",
    "create_charts(\"Amazon\", dataset['R_AMZN'], column_index=0, row_index=3, color=\"#0000FF\")\n",
    "create_charts(\"Microsoft\", dataset['R_MSFT'], column_index=0, row_index=4, color=\"#00FF00\")\n",
    "create_charts(\"S&P 500\", dataset['R_GSPC'], column_index=0, row_index=5, color=\"#FF00FF\")\n",
    "    \n",
    "# Open the dashboard with increased row height\n",
    "dashboard.open(height=2000)  # Increase the overall height of the dashboard"
   ]
  },
  {
   "cell_type": "markdown",
   "id": "ead59e6a",
   "metadata": {
    "id": "hs5X39j1KhaF",
    "papermill": {
     "duration": 0.073897,
     "end_time": "2023-08-28T14:25:42.649314",
     "exception": false,
     "start_time": "2023-08-28T14:25:42.575417",
     "status": "completed"
    },
    "tags": []
   },
   "source": [
    "# Portfolio Optimization using Efficient Frontier"
   ]
  },
  {
   "cell_type": "markdown",
   "id": "52f11d22",
   "metadata": {
    "id": "SlI4dI-h-psv",
    "papermill": {
     "duration": 0.073921,
     "end_time": "2023-08-28T14:25:42.947226",
     "exception": false,
     "start_time": "2023-08-28T14:25:42.873305",
     "status": "completed"
    },
    "tags": []
   },
   "source": [
    "### Correlation coefficients between companies' close prices"
   ]
  },
  {
   "cell_type": "code",
   "execution_count": 27,
   "id": "735755a4",
   "metadata": {
    "execution": {
     "iopub.execute_input": "2023-08-28T14:25:43.245026Z",
     "iopub.status.busy": "2023-08-28T14:25:43.244187Z",
     "iopub.status.idle": "2023-08-28T14:25:44.164102Z",
     "shell.execute_reply": "2023-08-28T14:25:44.163226Z"
    },
    "id": "D2gYBSwo8f8F",
    "outputId": "144b921a-92dd-4dc2-cdba-e15528a999ad",
    "papermill": {
     "duration": 0.998445,
     "end_time": "2023-08-28T14:25:44.167314",
     "exception": false,
     "start_time": "2023-08-28T14:25:43.168869",
     "status": "completed"
    },
    "tags": []
   },
   "outputs": [
    {
     "name": "stdout",
     "output_type": "stream",
     "text": [
      "Correlation Matrix:\n"
     ]
    },
    {
     "data": {
      "text/html": [
       "<div>\n",
       "<style scoped>\n",
       "    .dataframe tbody tr th:only-of-type {\n",
       "        vertical-align: middle;\n",
       "    }\n",
       "\n",
       "    .dataframe tbody tr th {\n",
       "        vertical-align: top;\n",
       "    }\n",
       "\n",
       "    .dataframe thead th {\n",
       "        text-align: right;\n",
       "    }\n",
       "</style>\n",
       "<table border=\"1\" class=\"dataframe\">\n",
       "  <thead>\n",
       "    <tr style=\"text-align: right;\">\n",
       "      <th></th>\n",
       "      <th>GOOG</th>\n",
       "      <th>AAPL</th>\n",
       "      <th>META</th>\n",
       "      <th>AMZN</th>\n",
       "      <th>MSFT</th>\n",
       "      <th>GSPC</th>\n",
       "    </tr>\n",
       "  </thead>\n",
       "  <tbody>\n",
       "    <tr>\n",
       "      <th>GOOG</th>\n",
       "      <td>1.000000</td>\n",
       "      <td>0.962471</td>\n",
       "      <td>0.869235</td>\n",
       "      <td>0.929944</td>\n",
       "      <td>0.981504</td>\n",
       "      <td>0.983349</td>\n",
       "    </tr>\n",
       "    <tr>\n",
       "      <th>AAPL</th>\n",
       "      <td>0.962471</td>\n",
       "      <td>1.000000</td>\n",
       "      <td>0.779530</td>\n",
       "      <td>0.905663</td>\n",
       "      <td>0.981641</td>\n",
       "      <td>0.954026</td>\n",
       "    </tr>\n",
       "    <tr>\n",
       "      <th>META</th>\n",
       "      <td>0.869235</td>\n",
       "      <td>0.779530</td>\n",
       "      <td>1.000000</td>\n",
       "      <td>0.928932</td>\n",
       "      <td>0.846666</td>\n",
       "      <td>0.890854</td>\n",
       "    </tr>\n",
       "    <tr>\n",
       "      <th>AMZN</th>\n",
       "      <td>0.929944</td>\n",
       "      <td>0.905663</td>\n",
       "      <td>0.928932</td>\n",
       "      <td>1.000000</td>\n",
       "      <td>0.948605</td>\n",
       "      <td>0.945219</td>\n",
       "    </tr>\n",
       "    <tr>\n",
       "      <th>MSFT</th>\n",
       "      <td>0.981504</td>\n",
       "      <td>0.981641</td>\n",
       "      <td>0.846666</td>\n",
       "      <td>0.948605</td>\n",
       "      <td>1.000000</td>\n",
       "      <td>0.976492</td>\n",
       "    </tr>\n",
       "    <tr>\n",
       "      <th>GSPC</th>\n",
       "      <td>0.983349</td>\n",
       "      <td>0.954026</td>\n",
       "      <td>0.890854</td>\n",
       "      <td>0.945219</td>\n",
       "      <td>0.976492</td>\n",
       "      <td>1.000000</td>\n",
       "    </tr>\n",
       "  </tbody>\n",
       "</table>\n",
       "</div>"
      ],
      "text/plain": [
       "          GOOG      AAPL      META      AMZN      MSFT      GSPC\n",
       "GOOG  1.000000  0.962471  0.869235  0.929944  0.981504  0.983349\n",
       "AAPL  0.962471  1.000000  0.779530  0.905663  0.981641  0.954026\n",
       "META  0.869235  0.779530  1.000000  0.928932  0.846666  0.890854\n",
       "AMZN  0.929944  0.905663  0.928932  1.000000  0.948605  0.945219\n",
       "MSFT  0.981504  0.981641  0.846666  0.948605  1.000000  0.976492\n",
       "GSPC  0.983349  0.954026  0.890854  0.945219  0.976492  1.000000"
      ]
     },
     "metadata": {},
     "output_type": "display_data"
    }
   ],
   "source": [
    "from IPython.display import display\n",
    "\n",
    "# Assuming dataset is already loaded with columns 'GOOG', 'AAPL', 'META', 'AMZN', 'MSFT', 'GSPC'\n",
    "corr = dataset[['GOOG', 'AAPL', 'META', 'AMZN', 'MSFT', 'GSPC']].corr()\n",
    "print(\"Correlation Matrix:\")\n",
    "display(corr)"
   ]
  },
  {
   "cell_type": "markdown",
   "id": "34e978a5",
   "metadata": {
    "id": "QFo_eUGn8hCi",
    "papermill": {
     "duration": 0.077429,
     "end_time": "2023-08-28T14:25:44.483060",
     "exception": false,
     "start_time": "2023-08-28T14:25:44.405631",
     "status": "completed"
    },
    "tags": []
   },
   "source": [
    "### Correlation coefficients between companies' returns"
   ]
  },
  {
   "cell_type": "code",
   "execution_count": 28,
   "id": "81d0e57c",
   "metadata": {
    "execution": {
     "iopub.execute_input": "2023-08-28T14:25:44.795731Z",
     "iopub.status.busy": "2023-08-28T14:25:44.794564Z",
     "iopub.status.idle": "2023-08-28T14:25:45.438469Z",
     "shell.execute_reply": "2023-08-28T14:25:45.437346Z"
    },
    "id": "b0b7Syly8scx",
    "outputId": "bcee86fd-2359-4a85-ea5a-3ae03d63b7b7",
    "papermill": {
     "duration": 0.724726,
     "end_time": "2023-08-28T14:25:45.441114",
     "exception": false,
     "start_time": "2023-08-28T14:25:44.716388",
     "status": "completed"
    },
    "tags": []
   },
   "outputs": [
    {
     "name": "stdout",
     "output_type": "stream",
     "text": [
      "Correlation Matrix for Returns:\n"
     ]
    },
    {
     "data": {
      "text/html": [
       "<div>\n",
       "<style scoped>\n",
       "    .dataframe tbody tr th:only-of-type {\n",
       "        vertical-align: middle;\n",
       "    }\n",
       "\n",
       "    .dataframe tbody tr th {\n",
       "        vertical-align: top;\n",
       "    }\n",
       "\n",
       "    .dataframe thead th {\n",
       "        text-align: right;\n",
       "    }\n",
       "</style>\n",
       "<table border=\"1\" class=\"dataframe\">\n",
       "  <thead>\n",
       "    <tr style=\"text-align: right;\">\n",
       "      <th></th>\n",
       "      <th>R_GOOG</th>\n",
       "      <th>R_AAPL</th>\n",
       "      <th>R_META</th>\n",
       "      <th>R_AMZN</th>\n",
       "      <th>R_MSFT</th>\n",
       "      <th>R_GSPC</th>\n",
       "    </tr>\n",
       "  </thead>\n",
       "  <tbody>\n",
       "    <tr>\n",
       "      <th>R_GOOG</th>\n",
       "      <td>1.000000</td>\n",
       "      <td>0.564942</td>\n",
       "      <td>0.540549</td>\n",
       "      <td>0.625032</td>\n",
       "      <td>0.686072</td>\n",
       "      <td>0.723447</td>\n",
       "    </tr>\n",
       "    <tr>\n",
       "      <th>R_AAPL</th>\n",
       "      <td>0.564942</td>\n",
       "      <td>1.000000</td>\n",
       "      <td>0.434883</td>\n",
       "      <td>0.500514</td>\n",
       "      <td>0.612656</td>\n",
       "      <td>0.701587</td>\n",
       "    </tr>\n",
       "    <tr>\n",
       "      <th>R_META</th>\n",
       "      <td>0.540549</td>\n",
       "      <td>0.434883</td>\n",
       "      <td>1.000000</td>\n",
       "      <td>0.491784</td>\n",
       "      <td>0.461838</td>\n",
       "      <td>0.520056</td>\n",
       "    </tr>\n",
       "    <tr>\n",
       "      <th>R_AMZN</th>\n",
       "      <td>0.625032</td>\n",
       "      <td>0.500514</td>\n",
       "      <td>0.491784</td>\n",
       "      <td>1.000000</td>\n",
       "      <td>0.591252</td>\n",
       "      <td>0.607078</td>\n",
       "    </tr>\n",
       "    <tr>\n",
       "      <th>R_MSFT</th>\n",
       "      <td>0.686072</td>\n",
       "      <td>0.612656</td>\n",
       "      <td>0.461838</td>\n",
       "      <td>0.591252</td>\n",
       "      <td>1.000000</td>\n",
       "      <td>0.775916</td>\n",
       "    </tr>\n",
       "    <tr>\n",
       "      <th>R_GSPC</th>\n",
       "      <td>0.723447</td>\n",
       "      <td>0.701587</td>\n",
       "      <td>0.520056</td>\n",
       "      <td>0.607078</td>\n",
       "      <td>0.775916</td>\n",
       "      <td>1.000000</td>\n",
       "    </tr>\n",
       "  </tbody>\n",
       "</table>\n",
       "</div>"
      ],
      "text/plain": [
       "          R_GOOG    R_AAPL    R_META    R_AMZN    R_MSFT    R_GSPC\n",
       "R_GOOG  1.000000  0.564942  0.540549  0.625032  0.686072  0.723447\n",
       "R_AAPL  0.564942  1.000000  0.434883  0.500514  0.612656  0.701587\n",
       "R_META  0.540549  0.434883  1.000000  0.491784  0.461838  0.520056\n",
       "R_AMZN  0.625032  0.500514  0.491784  1.000000  0.591252  0.607078\n",
       "R_MSFT  0.686072  0.612656  0.461838  0.591252  1.000000  0.775916\n",
       "R_GSPC  0.723447  0.701587  0.520056  0.607078  0.775916  1.000000"
      ]
     },
     "metadata": {},
     "output_type": "display_data"
    }
   ],
   "source": [
    "from IPython.display import display\n",
    "\n",
    "# Calculate the correlation matrix for returns\n",
    "returns_corr = dataset[['R_GOOG', 'R_AAPL', 'R_META', 'R_AMZN', 'R_MSFT', 'R_GSPC']].corr()\n",
    "\n",
    "# Display the correlation matrix for returns in a simple table\n",
    "print(\"Correlation Matrix for Returns:\")\n",
    "display(returns_corr)\n"
   ]
  },
  {
   "cell_type": "code",
   "execution_count": 29,
   "id": "42c576ab",
   "metadata": {
    "execution": {
     "iopub.execute_input": "2023-08-28T14:25:45.929140Z",
     "iopub.status.busy": "2023-08-28T14:25:45.928744Z",
     "iopub.status.idle": "2023-08-28T14:25:45.939181Z",
     "shell.execute_reply": "2023-08-28T14:25:45.938183Z"
    },
    "id": "3m4UynmlKhaH",
    "outputId": "0a9ebee9-6f77-4322-913d-6929a9067586",
    "papermill": {
     "duration": 0.096741,
     "end_time": "2023-08-28T14:25:45.941301",
     "exception": false,
     "start_time": "2023-08-28T14:25:45.844560",
     "status": "completed"
    },
    "tags": []
   },
   "outputs": [
    {
     "name": "stdout",
     "output_type": "stream",
     "text": [
      "The volatility of the stock of R_GOOG = 26.82 % per year\n",
      "The volatility of the stock of R_AAPL = 29.07 % per year\n",
      "The volatility of the stock of R_META = 40.12 % per year\n",
      "The volatility of the stock of R_AMZN = 32.28 % per year\n",
      "The volatility of the stock of R_MSFT = 26.76 % per year\n",
      "The volatility of the stock of R_GSPC = 17.39 % per year\n"
     ]
    }
   ],
   "source": [
    "returns  = dataset[['R_GOOG','R_AAPL','R_META','R_AMZN','R_MSFT', 'R_GSPC']]\n",
    "n_days = 252\n",
    "for col in returns.columns:\n",
    "    print(\"The volatility of the stock of\", col, \"=\",round(returns[col].std()*np.sqrt(n_days)*100,2), '% per year')"
   ]
  },
  {
   "cell_type": "code",
   "execution_count": 30,
   "id": "074ed572",
   "metadata": {
    "execution": {
     "iopub.execute_input": "2023-08-28T14:25:46.262619Z",
     "iopub.status.busy": "2023-08-28T14:25:46.261923Z",
     "iopub.status.idle": "2023-08-28T14:25:46.271852Z",
     "shell.execute_reply": "2023-08-28T14:25:46.270449Z"
    },
    "id": "HHxv0jFBKhaH",
    "outputId": "5f03cf07-0d7b-47cb-8f8d-146dbb2c519a",
    "papermill": {
     "duration": 0.094142,
     "end_time": "2023-08-28T14:25:46.273952",
     "exception": false,
     "start_time": "2023-08-28T14:25:46.179810",
     "status": "completed"
    },
    "tags": []
   },
   "outputs": [
    {
     "name": "stdout",
     "output_type": "stream",
     "text": [
      "The volatility of the stock of R_GOOG = 7.74 % per month\n",
      "The volatility of the stock of R_AAPL = 8.39 % per month\n",
      "The volatility of the stock of R_META = 11.58 % per month\n",
      "The volatility of the stock of R_AMZN = 9.32 % per month\n",
      "The volatility of the stock of R_MSFT = 7.72 % per month\n",
      "The volatility of the stock of R_GSPC = 5.02 % per month\n"
     ]
    }
   ],
   "source": [
    "returns  = dataset[['R_GOOG','R_AAPL','R_META','R_AMZN','R_MSFT', 'R_GSPC']]\n",
    "n_days = 21\n",
    "for col in returns.columns:\n",
    "    print(\"The volatility of the stock of\", col, \"=\",round(returns[col].std()*np.sqrt(n_days)*100,2), '% per month')"
   ]
  },
  {
   "cell_type": "markdown",
   "id": "217b0a82",
   "metadata": {
    "id": "BpPPclzTKhaH",
    "papermill": {
     "duration": 0.081843,
     "end_time": "2023-08-28T14:25:46.757634",
     "exception": false,
     "start_time": "2023-08-28T14:25:46.675791",
     "status": "completed"
    },
    "tags": []
   },
   "source": [
    "## Sharpe ratio"
   ]
  },
  {
   "cell_type": "code",
   "execution_count": 31,
   "id": "c9bc5a7f",
   "metadata": {
    "execution": {
     "iopub.execute_input": "2023-08-28T14:25:47.242626Z",
     "iopub.status.busy": "2023-08-28T14:25:47.241578Z",
     "iopub.status.idle": "2023-08-28T14:25:47.248302Z",
     "shell.execute_reply": "2023-08-28T14:25:47.247186Z"
    },
    "id": "wMiNUUR-KhaI",
    "papermill": {
     "duration": 0.09014,
     "end_time": "2023-08-28T14:25:47.250606",
     "exception": false,
     "start_time": "2023-08-28T14:25:47.160466",
     "status": "completed"
    },
    "tags": []
   },
   "outputs": [],
   "source": [
    "n_days = 252\n",
    "def sharpe_ratio (serie, rf = 0.025):\n",
    "    ''''\n",
    "    serie : Series of daily returns of the stock or portfolio\n",
    "    rf: annual return on a risk-free investment (default rf=0.025)\n",
    "    '''''\n",
    "    # Mean Annualized Return\n",
    "    rp = serie.mean()*n_days\n",
    "    # Annual volatility\n",
    "    volatility = serie.std()*np.sqrt(n_days)\n",
    "    # Sharpe ratio\n",
    "    sharpe = (rp -rf  ) / volatility\n",
    "    return sharpe"
   ]
  },
  {
   "cell_type": "code",
   "execution_count": 32,
   "id": "c83534ef",
   "metadata": {
    "execution": {
     "iopub.execute_input": "2023-08-28T14:25:47.413152Z",
     "iopub.status.busy": "2023-08-28T14:25:47.412387Z",
     "iopub.status.idle": "2023-08-28T14:25:47.420865Z",
     "shell.execute_reply": "2023-08-28T14:25:47.419690Z"
    },
    "id": "d8mtMkbNKhaI",
    "outputId": "e8b2e015-89a0-4e24-8708-b0f07537b2d6",
    "papermill": {
     "duration": 0.093959,
     "end_time": "2023-08-28T14:25:47.423542",
     "exception": false,
     "start_time": "2023-08-28T14:25:47.329583",
     "status": "completed"
    },
    "tags": []
   },
   "outputs": [
    {
     "name": "stdout",
     "output_type": "stream",
     "text": [
      "The Sharpe ratio of, R_GOOG = 0.67\n",
      "The Sharpe ratio of, R_AAPL = 0.68\n",
      "The Sharpe ratio of, R_META = 0.41\n",
      "The Sharpe ratio of, R_AMZN = 0.69\n",
      "The Sharpe ratio of, R_MSFT = 0.78\n",
      "The Sharpe ratio of, R_GSPC = 0.53\n"
     ]
    }
   ],
   "source": [
    "# Let's consider a risk-free investment with an annual return of 2.5% and\n",
    "#we calculate the Sharpe Ratio of each stock\n",
    "for col in returns.columns:\n",
    "    print(\"The Sharpe ratio of,\", col,\"=\", round(sharpe_ratio(returns[col]),2 ))"
   ]
  },
  {
   "cell_type": "markdown",
   "id": "a446b0c0",
   "metadata": {
    "id": "6Jg_eUjoKhaI",
    "papermill": {
     "duration": 0.082307,
     "end_time": "2023-08-28T14:25:47.937007",
     "exception": false,
     "start_time": "2023-08-28T14:25:47.854700",
     "status": "completed"
    },
    "tags": []
   },
   "source": [
    "### Beta of a Security"
   ]
  },
  {
   "cell_type": "code",
   "execution_count": 33,
   "id": "da872752",
   "metadata": {
    "execution": {
     "iopub.execute_input": "2023-08-28T14:25:48.429771Z",
     "iopub.status.busy": "2023-08-28T14:25:48.429389Z",
     "iopub.status.idle": "2023-08-28T14:25:48.444530Z",
     "shell.execute_reply": "2023-08-28T14:25:48.443285Z"
    },
    "id": "Kos42jocKhaJ",
    "outputId": "b99cd27a-0e51-476e-c711-0dd72c9c4402",
    "papermill": {
     "duration": 0.099797,
     "end_time": "2023-08-28T14:25:48.446819",
     "exception": false,
     "start_time": "2023-08-28T14:25:48.347022",
     "status": "completed"
    },
    "tags": []
   },
   "outputs": [
    {
     "data": {
      "text/html": [
       "<div>\n",
       "<style scoped>\n",
       "    .dataframe tbody tr th:only-of-type {\n",
       "        vertical-align: middle;\n",
       "    }\n",
       "\n",
       "    .dataframe tbody tr th {\n",
       "        vertical-align: top;\n",
       "    }\n",
       "\n",
       "    .dataframe thead th {\n",
       "        text-align: right;\n",
       "    }\n",
       "</style>\n",
       "<table border=\"1\" class=\"dataframe\">\n",
       "  <thead>\n",
       "    <tr style=\"text-align: right;\">\n",
       "      <th></th>\n",
       "      <th>R_GOOG</th>\n",
       "      <th>R_AAPL</th>\n",
       "      <th>R_META</th>\n",
       "      <th>R_AMZN</th>\n",
       "      <th>R_MSFT</th>\n",
       "      <th>R_GSPC</th>\n",
       "    </tr>\n",
       "  </thead>\n",
       "  <tbody>\n",
       "    <tr>\n",
       "      <th>R_GOOG</th>\n",
       "      <td>0.003426</td>\n",
       "      <td>0.002098</td>\n",
       "      <td>0.002770</td>\n",
       "      <td>0.002577</td>\n",
       "      <td>0.002345</td>\n",
       "      <td>0.001607</td>\n",
       "    </tr>\n",
       "    <tr>\n",
       "      <th>R_AAPL</th>\n",
       "      <td>0.002098</td>\n",
       "      <td>0.004025</td>\n",
       "      <td>0.002415</td>\n",
       "      <td>0.002237</td>\n",
       "      <td>0.002270</td>\n",
       "      <td>0.001689</td>\n",
       "    </tr>\n",
       "    <tr>\n",
       "      <th>R_META</th>\n",
       "      <td>0.002770</td>\n",
       "      <td>0.002415</td>\n",
       "      <td>0.007665</td>\n",
       "      <td>0.003033</td>\n",
       "      <td>0.002361</td>\n",
       "      <td>0.001728</td>\n",
       "    </tr>\n",
       "    <tr>\n",
       "      <th>R_AMZN</th>\n",
       "      <td>0.002577</td>\n",
       "      <td>0.002237</td>\n",
       "      <td>0.003033</td>\n",
       "      <td>0.004962</td>\n",
       "      <td>0.002432</td>\n",
       "      <td>0.001623</td>\n",
       "    </tr>\n",
       "    <tr>\n",
       "      <th>R_MSFT</th>\n",
       "      <td>0.002345</td>\n",
       "      <td>0.002270</td>\n",
       "      <td>0.002361</td>\n",
       "      <td>0.002432</td>\n",
       "      <td>0.003410</td>\n",
       "      <td>0.001719</td>\n",
       "    </tr>\n",
       "    <tr>\n",
       "      <th>R_GSPC</th>\n",
       "      <td>0.001607</td>\n",
       "      <td>0.001689</td>\n",
       "      <td>0.001728</td>\n",
       "      <td>0.001623</td>\n",
       "      <td>0.001719</td>\n",
       "      <td>0.001440</td>\n",
       "    </tr>\n",
       "  </tbody>\n",
       "</table>\n",
       "</div>"
      ],
      "text/plain": [
       "          R_GOOG    R_AAPL    R_META    R_AMZN    R_MSFT    R_GSPC\n",
       "R_GOOG  0.003426  0.002098  0.002770  0.002577  0.002345  0.001607\n",
       "R_AAPL  0.002098  0.004025  0.002415  0.002237  0.002270  0.001689\n",
       "R_META  0.002770  0.002415  0.007665  0.003033  0.002361  0.001728\n",
       "R_AMZN  0.002577  0.002237  0.003033  0.004962  0.002432  0.001623\n",
       "R_MSFT  0.002345  0.002270  0.002361  0.002432  0.003410  0.001719\n",
       "R_GSPC  0.001607  0.001689  0.001728  0.001623  0.001719  0.001440"
      ]
     },
     "execution_count": 33,
     "metadata": {},
     "output_type": "execute_result"
    }
   ],
   "source": [
    "cov = returns.cov() * 12 # annualized\n",
    "cov"
   ]
  },
  {
   "cell_type": "code",
   "execution_count": 34,
   "id": "41171a4a",
   "metadata": {
    "execution": {
     "iopub.execute_input": "2023-08-28T14:25:48.611219Z",
     "iopub.status.busy": "2023-08-28T14:25:48.610424Z",
     "iopub.status.idle": "2023-08-28T14:25:48.617424Z",
     "shell.execute_reply": "2023-08-28T14:25:48.616005Z"
    },
    "id": "nwb0z9PwKhaJ",
    "outputId": "0971db7b-5b4f-4b02-e893-03050879bc2b",
    "papermill": {
     "duration": 0.091661,
     "end_time": "2023-08-28T14:25:48.619904",
     "exception": false,
     "start_time": "2023-08-28T14:25:48.528243",
     "status": "completed"
    },
    "tags": []
   },
   "outputs": [
    {
     "name": "stdout",
     "output_type": "stream",
     "text": [
      "Beta (10Y period) of Google is : 1.1160956781111853\n"
     ]
    }
   ],
   "source": [
    "beta_GOOG = cov.iloc[0,5] / cov.iloc[5,5]\n",
    "print(f'Beta (10Y period) of Google is : {beta_GOOG}')"
   ]
  },
  {
   "cell_type": "code",
   "execution_count": 35,
   "id": "fa67a55f",
   "metadata": {
    "execution": {
     "iopub.execute_input": "2023-08-28T14:25:48.781666Z",
     "iopub.status.busy": "2023-08-28T14:25:48.781255Z",
     "iopub.status.idle": "2023-08-28T14:25:48.786561Z",
     "shell.execute_reply": "2023-08-28T14:25:48.785552Z"
    },
    "id": "G2L5OmJmKhaJ",
    "outputId": "e047f491-188f-46c1-a508-62d4c6517973",
    "papermill": {
     "duration": 0.088754,
     "end_time": "2023-08-28T14:25:48.788657",
     "exception": false,
     "start_time": "2023-08-28T14:25:48.699903",
     "status": "completed"
    },
    "tags": []
   },
   "outputs": [
    {
     "name": "stdout",
     "output_type": "stream",
     "text": [
      "Beta (10Y period) of Apple is : 1.1730606352218889\n"
     ]
    }
   ],
   "source": [
    "beta_AAPL = cov.iloc[1,5] / cov.iloc[5,5]\n",
    "print(f'Beta (10Y period) of Apple is : {beta_AAPL}')"
   ]
  },
  {
   "cell_type": "code",
   "execution_count": 36,
   "id": "af8e84e4",
   "metadata": {
    "execution": {
     "iopub.execute_input": "2023-08-28T14:25:48.953545Z",
     "iopub.status.busy": "2023-08-28T14:25:48.952546Z",
     "iopub.status.idle": "2023-08-28T14:25:48.959452Z",
     "shell.execute_reply": "2023-08-28T14:25:48.958252Z"
    },
    "id": "PmhxIzbnKhaK",
    "outputId": "8add1158-d460-4068-fa0d-0cd7e8f35d52",
    "papermill": {
     "duration": 0.092562,
     "end_time": "2023-08-28T14:25:48.962576",
     "exception": false,
     "start_time": "2023-08-28T14:25:48.870014",
     "status": "completed"
    },
    "tags": []
   },
   "outputs": [
    {
     "name": "stdout",
     "output_type": "stream",
     "text": [
      "Beta (10Y period) of Facebook is : 1.200017516496074\n"
     ]
    }
   ],
   "source": [
    "beta_META = cov.iloc[2,5] / cov.iloc[5,5]\n",
    "print(f'Beta (10Y period) of Facebook is : {beta_META}')"
   ]
  },
  {
   "cell_type": "code",
   "execution_count": 37,
   "id": "df65bbd9",
   "metadata": {
    "execution": {
     "iopub.execute_input": "2023-08-28T14:25:49.124236Z",
     "iopub.status.busy": "2023-08-28T14:25:49.123835Z",
     "iopub.status.idle": "2023-08-28T14:25:49.129442Z",
     "shell.execute_reply": "2023-08-28T14:25:49.128329Z"
    },
    "id": "zfWFTbKOKhaK",
    "outputId": "8821d64e-5321-40aa-9868-7e3c4cbb6036",
    "papermill": {
     "duration": 0.089596,
     "end_time": "2023-08-28T14:25:49.132538",
     "exception": false,
     "start_time": "2023-08-28T14:25:49.042942",
     "status": "completed"
    },
    "tags": []
   },
   "outputs": [
    {
     "name": "stdout",
     "output_type": "stream",
     "text": [
      "Beta (10Y period) of Amazon is : 1.127099926299393\n"
     ]
    }
   ],
   "source": [
    "beta_AMZN = cov.iloc[3,5] / cov.iloc[5,5]\n",
    "print(f'Beta (10Y period) of Amazon is : {beta_AMZN}')"
   ]
  },
  {
   "cell_type": "code",
   "execution_count": 38,
   "id": "72f75b8c",
   "metadata": {
    "execution": {
     "iopub.execute_input": "2023-08-28T14:25:49.296812Z",
     "iopub.status.busy": "2023-08-28T14:25:49.296291Z",
     "iopub.status.idle": "2023-08-28T14:25:49.302542Z",
     "shell.execute_reply": "2023-08-28T14:25:49.301453Z"
    },
    "id": "77jAUOZ4KhaK",
    "outputId": "1a831db1-f92d-4f99-f5e1-155a801f16ec",
    "papermill": {
     "duration": 0.092287,
     "end_time": "2023-08-28T14:25:49.304999",
     "exception": false,
     "start_time": "2023-08-28T14:25:49.212712",
     "status": "completed"
    },
    "tags": []
   },
   "outputs": [
    {
     "name": "stdout",
     "output_type": "stream",
     "text": [
      "Beta (10Y period) of Microsoft is : 1.1941011901897405\n"
     ]
    }
   ],
   "source": [
    "beta_MSFT = cov.iloc[4,5] / cov.iloc[5,5]\n",
    "print(f'Beta (10Y period) of Microsoft is : {beta_MSFT}')"
   ]
  },
  {
   "cell_type": "code",
   "execution_count": 39,
   "id": "bc23a552",
   "metadata": {
    "execution": {
     "iopub.execute_input": "2023-08-28T14:25:49.487709Z",
     "iopub.status.busy": "2023-08-28T14:25:49.487347Z",
     "iopub.status.idle": "2023-08-28T14:25:49.492962Z",
     "shell.execute_reply": "2023-08-28T14:25:49.492097Z"
    },
    "id": "TOJ3GKL5KhaK",
    "outputId": "d395fe2e-3921-4cc1-9064-cd17ffad5727",
    "papermill": {
     "duration": 0.099265,
     "end_time": "2023-08-28T14:25:49.495054",
     "exception": false,
     "start_time": "2023-08-28T14:25:49.395789",
     "status": "completed"
    },
    "tags": []
   },
   "outputs": [
    {
     "name": "stdout",
     "output_type": "stream",
     "text": [
      "Beta (10Y period) of S&P 500 is : 1.0\n"
     ]
    }
   ],
   "source": [
    "beta_GSPC = cov.iloc[5,5] / cov.iloc[5,5]\n",
    "print(f'Beta (10Y period) of S&P 500 is : {beta_GSPC}')"
   ]
  },
  {
   "cell_type": "markdown",
   "id": "9f7fb92b",
   "metadata": {
    "id": "v0F771XMvfJ7",
    "papermill": {
     "duration": 0.079767,
     "end_time": "2023-08-28T14:25:49.656392",
     "exception": false,
     "start_time": "2023-08-28T14:25:49.576625",
     "status": "completed"
    },
    "tags": []
   },
   "source": [
    "## Portfolio Simulation"
   ]
  },
  {
   "cell_type": "code",
   "execution_count": 40,
   "id": "84a6a0fb",
   "metadata": {
    "execution": {
     "iopub.execute_input": "2023-08-28T14:25:49.979446Z",
     "iopub.status.busy": "2023-08-28T14:25:49.978750Z",
     "iopub.status.idle": "2023-08-28T14:25:49.983950Z",
     "shell.execute_reply": "2023-08-28T14:25:49.982922Z"
    },
    "id": "4zqYmJJLKhaK",
    "papermill": {
     "duration": 0.090745,
     "end_time": "2023-08-28T14:25:49.986180",
     "exception": false,
     "start_time": "2023-08-28T14:25:49.895435",
     "status": "completed"
    },
    "tags": []
   },
   "outputs": [],
   "source": [
    "from scipy.optimize import minimize"
   ]
  },
  {
   "cell_type": "code",
   "execution_count": 41,
   "id": "8ec33bb1",
   "metadata": {
    "execution": {
     "iopub.execute_input": "2023-08-28T14:25:50.152815Z",
     "iopub.status.busy": "2023-08-28T14:25:50.152245Z",
     "iopub.status.idle": "2023-08-28T14:25:50.422340Z",
     "shell.execute_reply": "2023-08-28T14:25:50.421153Z"
    },
    "id": "CGYOerM-KhaL",
    "papermill": {
     "duration": 0.354943,
     "end_time": "2023-08-28T14:25:50.424833",
     "exception": false,
     "start_time": "2023-08-28T14:25:50.069890",
     "status": "completed"
    },
    "tags": []
   },
   "outputs": [],
   "source": [
    "# Portfolio Simulation\n",
    "portfolio        = 2673  # generation of a portfolio\n",
    "n_assets         = returns.shape[1]\n",
    "weights          = np.random.dirichlet(np.full(n_assets,0.05),portfolio)\n",
    "mean_returns     = returns.mean()\n",
    "sigma            = returns.cov()\n",
    "expected_returns = np.zeros(portfolio)\n",
    "expected_vol     = np.zeros(portfolio)\n",
    "sharpe_ratio     = np.zeros(portfolio)\n",
    "rf_rate          = 0.0                          # risk free rate\n",
    "\n",
    "for i in range(portfolio):\n",
    "    w                   = weights[i,:]\n",
    "    expected_returns[i] = np.sum(mean_returns @ w)*252\n",
    "    expected_vol[i]     = np.sqrt(np.dot(w.T,sigma @ w))*np.sqrt(252)\n",
    "    sharpe_ratio[i]     = (expected_returns[i]-rf_rate)/expected_vol[i]"
   ]
  },
  {
   "cell_type": "code",
   "execution_count": 42,
   "id": "a19883c2",
   "metadata": {
    "execution": {
     "iopub.execute_input": "2023-08-28T14:25:50.590762Z",
     "iopub.status.busy": "2023-08-28T14:25:50.590216Z",
     "iopub.status.idle": "2023-08-28T14:25:50.596950Z",
     "shell.execute_reply": "2023-08-28T14:25:50.595755Z"
    },
    "id": "a831MQRlKhaM",
    "papermill": {
     "duration": 0.09245,
     "end_time": "2023-08-28T14:25:50.598982",
     "exception": false,
     "start_time": "2023-08-28T14:25:50.506532",
     "status": "completed"
    },
    "tags": []
   },
   "outputs": [],
   "source": [
    "def portfolio_volatility(weight):\n",
    "    return np.sqrt(np.dot(weight.T,\n",
    "                          np.dot(sigma,weight)))*np.sqrt(252)\n",
    "\n",
    "def portfolio_return(weight):\n",
    "\n",
    "    return np.sum(mean_returns*weight)*252\n",
    "\n",
    "def portfolio_performance(weight):\n",
    "    return_p = portfolio_return(weight)\n",
    "    vol_p    = portfolio_volatility(weight)\n",
    "    return return_p, vol_p"
   ]
  },
  {
   "cell_type": "code",
   "execution_count": 43,
   "id": "a0fd9f2f",
   "metadata": {
    "execution": {
     "iopub.execute_input": "2023-08-28T14:25:50.763537Z",
     "iopub.status.busy": "2023-08-28T14:25:50.763153Z",
     "iopub.status.idle": "2023-08-28T14:25:50.770071Z",
     "shell.execute_reply": "2023-08-28T14:25:50.768961Z"
    },
    "id": "xwcBcT1EKhaM",
    "papermill": {
     "duration": 0.091262,
     "end_time": "2023-08-28T14:25:50.772167",
     "exception": false,
     "start_time": "2023-08-28T14:25:50.680905",
     "status": "completed"
    },
    "tags": []
   },
   "outputs": [],
   "source": [
    "def negativeSR(weight):\n",
    "    return_p, vol_p = portfolio_performance(weight)\n",
    "    rf_rate         = 0.025\n",
    "    return -(return_p - rf_rate)/vol_p\n",
    "\n",
    "def max_sharpe_ratio():\n",
    "\n",
    "    def sum_one(weight):\n",
    "        w= weight\n",
    "        return np.sum(weight)-1\n",
    "\n",
    "    n_assets           = returns.shape[1]\n",
    "    weight_constraints = ({'type':'eq','fun': sum_one})\n",
    "    w0                 = np.random.dirichlet(np.full(n_assets,0.05)).tolist()    # w0 is an initila guess\n",
    "\n",
    "    return minimize(negativeSR,w0,method='SLSQP',\n",
    "                          bounds  =((0,1),)*n_assets,\n",
    "                      constraints = weight_constraints)"
   ]
  },
  {
   "cell_type": "code",
   "execution_count": 44,
   "id": "3b7db3fd",
   "metadata": {
    "execution": {
     "iopub.execute_input": "2023-08-28T14:25:50.935011Z",
     "iopub.status.busy": "2023-08-28T14:25:50.934651Z",
     "iopub.status.idle": "2023-08-28T14:25:50.940289Z",
     "shell.execute_reply": "2023-08-28T14:25:50.939537Z"
    },
    "id": "H9-JAP5PKhaM",
    "papermill": {
     "duration": 0.089313,
     "end_time": "2023-08-28T14:25:50.942308",
     "exception": false,
     "start_time": "2023-08-28T14:25:50.852995",
     "status": "completed"
    },
    "tags": []
   },
   "outputs": [],
   "source": [
    "def min_vol():\n",
    "\n",
    "    n_assets           = returns.shape[1]\n",
    "    weight_constraints = ({'type':'eq','fun': lambda x: np.sum(x)-1})\n",
    "    w0                 = np.random.dirichlet(np.full(n_assets,0.05)).tolist()\n",
    "    bounds             = ((0,1),)*n_assets\n",
    "\n",
    "    return minimize(portfolio_volatility,w0,method='SLSQP',\n",
    "                   bounds      = bounds,\n",
    "                   constraints = weight_constraints)"
   ]
  },
  {
   "cell_type": "code",
   "execution_count": 45,
   "id": "55d261b4",
   "metadata": {
    "execution": {
     "iopub.execute_input": "2023-08-28T14:25:51.112925Z",
     "iopub.status.busy": "2023-08-28T14:25:51.112212Z",
     "iopub.status.idle": "2023-08-28T14:25:51.118165Z",
     "shell.execute_reply": "2023-08-28T14:25:51.117280Z"
    },
    "id": "qQsJLEeoKhaM",
    "papermill": {
     "duration": 0.094823,
     "end_time": "2023-08-28T14:25:51.120809",
     "exception": false,
     "start_time": "2023-08-28T14:25:51.025986",
     "status": "completed"
    },
    "tags": []
   },
   "outputs": [],
   "source": [
    "def efficient_portfolio_target(target):\n",
    "\n",
    "    constraints = ({'type':'eq','fun': lambda x: portfolio_return(x)- target},\n",
    "                  {'type' :'eq','fun': lambda x: np.sum(x)-1})\n",
    "    w0          = np.random.dirichlet(np.full(n_assets,0.05)).tolist()\n",
    "    bounds      = ((0,1),)*n_assets\n",
    "\n",
    "    return minimize(portfolio_volatility,w0, method = 'SLSQP',\n",
    "                    bounds      = bounds,\n",
    "                    constraints = constraints)"
   ]
  },
  {
   "cell_type": "code",
   "execution_count": 46,
   "id": "43a1128d",
   "metadata": {
    "execution": {
     "iopub.execute_input": "2023-08-28T14:25:51.287721Z",
     "iopub.status.busy": "2023-08-28T14:25:51.286568Z",
     "iopub.status.idle": "2023-08-28T14:25:51.291958Z",
     "shell.execute_reply": "2023-08-28T14:25:51.290890Z"
    },
    "id": "Hezs1glDKhaM",
    "papermill": {
     "duration": 0.091695,
     "end_time": "2023-08-28T14:25:51.294362",
     "exception": false,
     "start_time": "2023-08-28T14:25:51.202667",
     "status": "completed"
    },
    "tags": []
   },
   "outputs": [],
   "source": [
    "def efficient_frontier(return_range):\n",
    "    return [efficient_portfolio_target(ret) for ret in return_range]"
   ]
  },
  {
   "cell_type": "code",
   "execution_count": 58,
   "id": "c15734ab",
   "metadata": {},
   "outputs": [
    {
     "data": {
      "text/html": [
       "\n",
       "        <iframe\n",
       "            width=\"100%\"\n",
       "            height=\"600\"\n",
       "            src=\"http://localhost:55104\"\n",
       "            frameborder=\"0\"\n",
       "            allowfullscreen\n",
       "            \n",
       "        ></iframe>\n",
       "        "
      ],
      "text/plain": [
       "<IPython.lib.display.IFrame at 0x1fbc0a27ce0>"
      ]
     },
     "execution_count": 58,
     "metadata": {},
     "output_type": "execute_result"
    },
    {
     "name": "stderr",
     "output_type": "stream",
     "text": [
      "127.0.0.1 - - [08/Aug/2024 11:01:00] \"GET / HTTP/1.1\" 200 -\n"
     ]
    }
   ],
   "source": [
    "import numpy as np\n",
    "import lightningchart as lc\n",
    "\n",
    "# Parameters for portfolio simulation\n",
    "n_portfolios = 1000\n",
    "n_assets = 4\n",
    "mean_returns = np.random.normal(0.10, 0.02, n_assets)  # Mean returns for assets\n",
    "cov_matrix = np.random.rand(n_assets, n_assets)\n",
    "cov_matrix = cov_matrix @ cov_matrix.T  # Symmetric covariance matrix\n",
    "\n",
    "# Simulate random portfolio weights\n",
    "weights = np.random.dirichlet(np.ones(n_assets), size=n_portfolios)\n",
    "returns = np.dot(weights, mean_returns)\n",
    "volatilities = np.sqrt(np.einsum('ij,ji->i', weights @ cov_matrix, weights.T))\n",
    "\n",
    "sharpe_ratios = returns / volatilities\n",
    "\n",
    "# Create the chart\n",
    "chart = lc.ChartXY(theme=lc.Themes.Dark)\n",
    "chart.set_title('Portfolio Optimization based on Efficient Frontier')\n",
    "\n",
    "# Primary Y-axis for Annualised Returns\n",
    "primary_y_axis = chart.get_default_y_axis()\n",
    "primary_y_axis.set_title(\"Annualised Returns\")\n",
    "\n",
    "# Secondary Y-axis for the Sharpe Ratio\n",
    "secondary_y_axis = chart.add_y_axis(opposite=True)\n",
    "secondary_y_axis.set_title(\"Sharpe Ratio\")\n",
    "\n",
    "# Scatter series for portfolios\n",
    "scatter_series = chart.add_point_series()\n",
    "scatter_series.set_name('Portfolios')\n",
    "\n",
    "# Adding points to the scatter series\n",
    "for x, y in zip(volatilities, returns):\n",
    "    scatter_series.add([x], [y])\n",
    "\n",
    "# Find the maximum Sharpe ratio point\n",
    "index_max_sharpe = np.argmax(sharpe_ratios)\n",
    "max_sharpe_point = chart.add_point_series()\n",
    "max_sharpe_point.add([volatilities[index_max_sharpe]], [returns[index_max_sharpe]])\n",
    "max_sharpe_point.set_point_color(lc.Color(255, 0, 0))  # Red\n",
    "max_sharpe_point.set_point_shape('star')\n",
    "max_sharpe_point.set_point_size(15)  # Bigger point size\n",
    "max_sharpe_point.set_name('Maximum Sharpe Ratio')  # Name for legend\n",
    "\n",
    "# Find the minimum volatility point\n",
    "index_min_vol = np.argmin(volatilities)\n",
    "min_vol_point = chart.add_point_series()\n",
    "min_vol_point.add([volatilities[index_min_vol]], [returns[index_min_vol]])\n",
    "min_vol_point.set_point_color(lc.Color(0, 255, 0))  # Green\n",
    "min_vol_point.set_point_shape('star')\n",
    "min_vol_point.set_point_size(15)  # Bigger point size\n",
    "min_vol_point.set_name('Minimum Volatility')  # Name for legend\n",
    "\n",
    "# Efficient Frontier\n",
    "sorted_indices = np.lexsort((returns, volatilities))\n",
    "frontier_vol = []\n",
    "frontier_ret = []\n",
    "last_max_ret = -np.inf\n",
    "for vol, ret in zip(volatilities[sorted_indices], returns[sorted_indices]):\n",
    "    if ret > last_max_ret:\n",
    "        frontier_vol.append(vol)\n",
    "        frontier_ret.append(ret)\n",
    "        last_max_ret = ret\n",
    "\n",
    "frontier_series = chart.add_line_series()\n",
    "frontier_series.add(frontier_vol, frontier_ret)\n",
    "frontier_series.set_line_color(lc.Color(255, 255, 255))  # White\n",
    "frontier_series.set_name('Efficient Frontier')  # Name for legend\n",
    "\n",
    "# Legend\n",
    "legend = chart.add_legend()\n",
    "legend.add(scatter_series)\n",
    "legend.add(max_sharpe_point)\n",
    "legend.add(min_vol_point)\n",
    "legend.add(frontier_series)\n",
    "\n",
    "# Add axis titles\n",
    "chart.get_default_x_axis().set_title(\"Annualised Volatility\")\n",
    "chart.get_default_y_axis().set_title(\"Annualised Returns\")\n",
    "\n",
    "# Open the chart\n",
    "chart.open()\n"
   ]
  },
  {
   "cell_type": "markdown",
   "id": "5f8bbe9f",
   "metadata": {
    "id": "FdQkYgcmKhaN",
    "papermill": {
     "duration": 0.088856,
     "end_time": "2023-08-28T14:26:01.704339",
     "exception": false,
     "start_time": "2023-08-28T14:26:01.615483",
     "status": "completed"
    },
    "tags": []
   },
   "source": [
    "## Random portfolio simulation"
   ]
  },
  {
   "cell_type": "code",
   "execution_count": 49,
   "id": "21457a33",
   "metadata": {
    "execution": {
     "iopub.execute_input": "2023-08-28T14:26:02.234443Z",
     "iopub.status.busy": "2023-08-28T14:26:02.234015Z",
     "iopub.status.idle": "2023-08-28T14:26:02.243383Z",
     "shell.execute_reply": "2023-08-28T14:26:02.242056Z"
    },
    "id": "2TLPi6gkKhaN",
    "papermill": {
     "duration": 0.101296,
     "end_time": "2023-08-28T14:26:02.245695",
     "exception": false,
     "start_time": "2023-08-28T14:26:02.144399",
     "status": "completed"
    },
    "tags": []
   },
   "outputs": [],
   "source": [
    "def calc_portfolio_perf(weights, mean_returns, cov, rf):# portfolio performance, calculate the annualised return, sharpe ratio\n",
    "    portfolio_return = np.sum(mean_returns*weights)*252 #252 working days at the stock exchange\n",
    "    portfolio_std = np.sqrt(np.dot(weights.T,np.dot(cov,weights)))*np.sqrt(252) # np.dot multiplication of matrices\n",
    "    sharpe_ratio = (portfolio_return - rf) / portfolio_std\n",
    "    return portfolio_return, portfolio_std, sharpe_ratio\n",
    "\n",
    "def simulate_random_portfolios(num_portfolios, mean_returns, cov, rf): # random simulation\n",
    "    results_matrix = np.zeros((len(mean_returns)+3, num_portfolios))\n",
    "    for i in range(num_portfolios):\n",
    "        weights=np.random.random(len(mean_returns))\n",
    "        weights /= np.sum(weights)\n",
    "        portfolio_return, portfolio_std, sharpe_ratio = calc_portfolio_perf(weights, mean_returns, cov, rf)\n",
    "        results_matrix[0,i] = portfolio_return\n",
    "        results_matrix[1,i] = portfolio_std\n",
    "        results_matrix[2,i] = sharpe_ratio\n",
    "        #iterate through the weight vector and add data to results array\n",
    "        for j in range(len(weights)):\n",
    "            results_matrix[j+3,i] = weights[j]\n",
    "    results_df = pd.DataFrame(results_matrix.T,columns=['ret','stdev','sharpe'] + [ticker for ticker in tickers])\n",
    "    return results_df"
   ]
  },
  {
   "cell_type": "code",
   "execution_count": 50,
   "id": "28a43771",
   "metadata": {
    "execution": {
     "iopub.execute_input": "2023-08-28T14:26:02.419202Z",
     "iopub.status.busy": "2023-08-28T14:26:02.418555Z",
     "iopub.status.idle": "2023-08-28T14:26:02.424798Z",
     "shell.execute_reply": "2023-08-28T14:26:02.423772Z"
    },
    "id": "QIRr5hl1KhaO",
    "papermill": {
     "duration": 0.096259,
     "end_time": "2023-08-28T14:26:02.426856",
     "exception": false,
     "start_time": "2023-08-28T14:26:02.330597",
     "status": "completed"
    },
    "tags": []
   },
   "outputs": [],
   "source": [
    "tickers = []\n",
    "for i in dataset[['GOOG','AAPL','META','AMZN','MSFT', 'GSPC']].columns:\n",
    "    tickers.append(i)"
   ]
  },
  {
   "cell_type": "code",
   "execution_count": 51,
   "id": "42320932",
   "metadata": {
    "execution": {
     "iopub.execute_input": "2023-08-28T14:26:02.602424Z",
     "iopub.status.busy": "2023-08-28T14:26:02.601701Z",
     "iopub.status.idle": "2023-08-28T14:26:05.172971Z",
     "shell.execute_reply": "2023-08-28T14:26:05.171934Z"
    },
    "id": "4WclDFXQKhaO",
    "papermill": {
     "duration": 2.662985,
     "end_time": "2023-08-28T14:26:05.175593",
     "exception": false,
     "start_time": "2023-08-28T14:26:02.512608",
     "status": "completed"
    },
    "tags": []
   },
   "outputs": [],
   "source": [
    "mean_returns = dataset[['GOOG','AAPL','META','AMZN','MSFT', 'GSPC']].pct_change().mean()\n",
    "cov = dataset[['GOOG','AAPL','META','AMZN','MSFT', 'GSPC']].pct_change().cov()\n",
    "num_portfolios = 10000\n",
    "rf = 0.025\n",
    "results_frame =simulate_random_portfolios(num_portfolios, mean_returns,cov, rf) #random selection/creation of the portfolio"
   ]
  },
  {
   "cell_type": "code",
   "execution_count": 52,
   "id": "964a6589",
   "metadata": {
    "execution": {
     "iopub.execute_input": "2023-08-28T14:26:05.348812Z",
     "iopub.status.busy": "2023-08-28T14:26:05.348063Z",
     "iopub.status.idle": "2023-08-28T14:26:05.354327Z",
     "shell.execute_reply": "2023-08-28T14:26:05.353481Z"
    },
    "id": "OirmPNCxKhaO",
    "papermill": {
     "duration": 0.095552,
     "end_time": "2023-08-28T14:26:05.356429",
     "exception": false,
     "start_time": "2023-08-28T14:26:05.260877",
     "status": "completed"
    },
    "tags": []
   },
   "outputs": [],
   "source": [
    "results_frame.sum(axis=1)-results_frame[\"ret\"]-results_frame[\"stdev\"]-results_frame[\"sharpe\"];"
   ]
  },
  {
   "cell_type": "code",
   "execution_count": 53,
   "id": "c1eae7c1",
   "metadata": {},
   "outputs": [
    {
     "data": {
      "text/html": [
       "\n",
       "        <iframe\n",
       "            width=\"100%\"\n",
       "            height=\"600\"\n",
       "            src=\"http://localhost:54724\"\n",
       "            frameborder=\"0\"\n",
       "            allowfullscreen\n",
       "            \n",
       "        ></iframe>\n",
       "        "
      ],
      "text/plain": [
       "<IPython.lib.display.IFrame at 0x1fbc0a1c6b0>"
      ]
     },
     "execution_count": 53,
     "metadata": {},
     "output_type": "execute_result"
    }
   ],
   "source": [
    "import numpy as np\n",
    "import lightningchart as lc\n",
    "\n",
    "# Create the chart\n",
    "chart = lc.ChartXY(theme=lc.Themes.Dark)\n",
    "chart.set_title('Optimization of the GAFAM portfolio')\n",
    "\n",
    "# Primary Y-axis for Annualised Returns\n",
    "primary_y_axis = chart.get_default_y_axis()\n",
    "primary_y_axis.set_title(\"Annualised Returns\")\n",
    "\n",
    "# Secondary Y-axis for the Sharpe Ratio\n",
    "secondary_y_axis = chart.add_y_axis(opposite=True)\n",
    "secondary_y_axis.set_title(\"Sharpe Ratio\")\n",
    "\n",
    "# Scatter series for portfolios\n",
    "scatter_series = chart.add_point_series()\n",
    "scatter_series.set_name(\"Portfolios\")\n",
    "\n",
    "# Assign a static color for testing\n",
    "static_color = lc.Color(244, 208, 63)\n",
    "\n",
    "# Assuming results_frame['stdev'] and results_frame['ret'] are correctly defined\n",
    "for (x, y) in zip(results_frame['stdev'], results_frame['ret']):\n",
    "    point = scatter_series.add([x], [y])\n",
    "    point.set_point_color(static_color)\n",
    "\n",
    "# Highlight Maximum Sharpe Ratio\n",
    "max_sharpe_idx = np.argmax(results_frame['sharpe'])\n",
    "max_sharpe_point = chart.add_point_series()\n",
    "max_sharpe_point.set_name(\"Maximum Sharpe Ratio\")\n",
    "max_sharpe_point.add([results_frame['stdev'][max_sharpe_idx]], [results_frame['ret'][max_sharpe_idx]])\n",
    "max_sharpe_point.set_point_shape('star')\n",
    "max_sharpe_point.set_point_color(lc.Color(255, 0, 0))\n",
    "max_sharpe_point.set_point_size(20)\n",
    "\n",
    "# Highlight Minimum Volatility\n",
    "min_vol_idx = np.argmin(results_frame['stdev'])\n",
    "min_vol_point = chart.add_point_series()\n",
    "min_vol_point.set_name(\"Minimum Volatility\")\n",
    "min_vol_point.add([results_frame['stdev'][min_vol_idx]], [results_frame['ret'][min_vol_idx]])\n",
    "min_vol_point.set_point_shape('star')\n",
    "min_vol_point.set_point_color(lc.Color(0, 255, 0))\n",
    "min_vol_point.set_point_size(20)\n",
    "\n",
    "# Add legend\n",
    "legend = chart.add_legend()\n",
    "legend.add(scatter_series)\n",
    "legend.add(max_sharpe_point)\n",
    "legend.add(min_vol_point)\n",
    "\n",
    "chart.get_default_x_axis().set_title(\"Risk / Annualised Volatility\")\n",
    "\n",
    "# Open the chart\n",
    "chart.open()\n"
   ]
  },
  {
   "cell_type": "code",
   "execution_count": 54,
   "id": "0b1dc350",
   "metadata": {
    "execution": {
     "iopub.execute_input": "2023-08-28T14:26:09.480779Z",
     "iopub.status.busy": "2023-08-28T14:26:09.479681Z",
     "iopub.status.idle": "2023-08-28T14:26:09.494846Z",
     "shell.execute_reply": "2023-08-28T14:26:09.493731Z"
    },
    "id": "4L3FEiyOKhaO",
    "outputId": "d8695579-5c70-4414-fabe-fb99c4a5b821",
    "papermill": {
     "duration": 0.12919,
     "end_time": "2023-08-28T14:26:09.496995",
     "exception": false,
     "start_time": "2023-08-28T14:26:09.367805",
     "status": "completed"
    },
    "tags": []
   },
   "outputs": [
    {
     "name": "stderr",
     "output_type": "stream",
     "text": [
      "127.0.0.1 - - [08/Aug/2024 10:53:14] \"GET / HTTP/1.1\" 200 -\n"
     ]
    },
    {
     "name": "stdout",
     "output_type": "stream",
     "text": [
      "Maximum Sharpe Ratio Portfolio:\n"
     ]
    },
    {
     "data": {
      "text/html": [
       "<div>\n",
       "<style scoped>\n",
       "    .dataframe tbody tr th:only-of-type {\n",
       "        vertical-align: middle;\n",
       "    }\n",
       "\n",
       "    .dataframe tbody tr th {\n",
       "        vertical-align: top;\n",
       "    }\n",
       "\n",
       "    .dataframe thead th {\n",
       "        text-align: right;\n",
       "    }\n",
       "</style>\n",
       "<table border=\"1\" class=\"dataframe\">\n",
       "  <thead>\n",
       "    <tr style=\"text-align: right;\">\n",
       "      <th></th>\n",
       "      <th>ret</th>\n",
       "      <th>stdev</th>\n",
       "      <th>sharpe</th>\n",
       "      <th>GOOG</th>\n",
       "      <th>AAPL</th>\n",
       "      <th>META</th>\n",
       "      <th>AMZN</th>\n",
       "      <th>MSFT</th>\n",
       "      <th>GSPC</th>\n",
       "    </tr>\n",
       "  </thead>\n",
       "  <tbody>\n",
       "    <tr>\n",
       "      <th>6179</th>\n",
       "      <td>0.230604</td>\n",
       "      <td>0.240989</td>\n",
       "      <td>0.853169</td>\n",
       "      <td>0.091321</td>\n",
       "      <td>0.252492</td>\n",
       "      <td>0.015041</td>\n",
       "      <td>0.223246</td>\n",
       "      <td>0.415239</td>\n",
       "      <td>0.002661</td>\n",
       "    </tr>\n",
       "  </tbody>\n",
       "</table>\n",
       "</div>"
      ],
      "text/plain": [
       "           ret     stdev    sharpe      GOOG      AAPL      META      AMZN  \\\n",
       "6179  0.230604  0.240989  0.853169  0.091321  0.252492  0.015041  0.223246   \n",
       "\n",
       "          MSFT      GSPC  \n",
       "6179  0.415239  0.002661  "
      ]
     },
     "metadata": {},
     "output_type": "display_data"
    },
    {
     "name": "stdout",
     "output_type": "stream",
     "text": [
      "\n",
      "Minimum Volatility Portfolio:\n"
     ]
    },
    {
     "data": {
      "text/html": [
       "<div>\n",
       "<style scoped>\n",
       "    .dataframe tbody tr th:only-of-type {\n",
       "        vertical-align: middle;\n",
       "    }\n",
       "\n",
       "    .dataframe tbody tr th {\n",
       "        vertical-align: top;\n",
       "    }\n",
       "\n",
       "    .dataframe thead th {\n",
       "        text-align: right;\n",
       "    }\n",
       "</style>\n",
       "<table border=\"1\" class=\"dataframe\">\n",
       "  <thead>\n",
       "    <tr style=\"text-align: right;\">\n",
       "      <th></th>\n",
       "      <th>ret</th>\n",
       "      <th>stdev</th>\n",
       "      <th>sharpe</th>\n",
       "      <th>GOOG</th>\n",
       "      <th>AAPL</th>\n",
       "      <th>META</th>\n",
       "      <th>AMZN</th>\n",
       "      <th>MSFT</th>\n",
       "      <th>GSPC</th>\n",
       "    </tr>\n",
       "  </thead>\n",
       "  <tbody>\n",
       "    <tr>\n",
       "      <th>6673</th>\n",
       "      <td>0.191373</td>\n",
       "      <td>0.217501</td>\n",
       "      <td>0.764931</td>\n",
       "      <td>0.24187</td>\n",
       "      <td>0.13661</td>\n",
       "      <td>0.106586</td>\n",
       "      <td>0.068289</td>\n",
       "      <td>0.188139</td>\n",
       "      <td>0.258505</td>\n",
       "    </tr>\n",
       "  </tbody>\n",
       "</table>\n",
       "</div>"
      ],
      "text/plain": [
       "           ret     stdev    sharpe     GOOG     AAPL      META      AMZN  \\\n",
       "6673  0.191373  0.217501  0.764931  0.24187  0.13661  0.106586  0.068289   \n",
       "\n",
       "          MSFT      GSPC  \n",
       "6673  0.188139  0.258505  "
      ]
     },
     "metadata": {},
     "output_type": "display_data"
    }
   ],
   "source": [
    "# Data setup\n",
    "results_frame = simulate_random_portfolios(num_portfolios, mean_returns, cov, rf)\n",
    "\n",
    "# Extracting the maximum Sharpe ratio portfolio\n",
    "max_sharpe_idx = results_frame['sharpe'].idxmax()\n",
    "max_sharpe_portfolio = results_frame.loc[max_sharpe_idx]\n",
    "min_vol_portfolio = results_frame.loc[min_vol_idx]\n",
    "\n",
    "# Converting to DataFrame and displaying\n",
    "max_sharpe_df = max_sharpe_portfolio.to_frame().T\n",
    "min_vol_df = min_vol_portfolio.to_frame().T\n",
    "\n",
    "# Display the DataFrame\n",
    "print(\"Maximum Sharpe Ratio Portfolio:\")\n",
    "display(max_sharpe_df)\n",
    "print(\"\\nMinimum Volatility Portfolio:\")\n",
    "display(min_vol_df)\n"
   ]
  }
 ],
 "metadata": {
  "kernelspec": {
   "display_name": "Python 3",
   "language": "python",
   "name": "python3"
  },
  "language_info": {
   "codemirror_mode": {
    "name": "ipython",
    "version": 3
   },
   "file_extension": ".py",
   "mimetype": "text/x-python",
   "name": "python",
   "nbconvert_exporter": "python",
   "pygments_lexer": "ipython3",
   "version": "3.12.2"
  },
  "papermill": {
   "default_parameters": {},
   "duration": 92.389668,
   "end_time": "2023-08-28T14:26:11.790882",
   "environment_variables": {},
   "exception": null,
   "input_path": "__notebook__.ipynb",
   "output_path": "__notebook__.ipynb",
   "parameters": {},
   "start_time": "2023-08-28T14:24:39.401214",
   "version": "2.4.0"
  }
 },
 "nbformat": 4,
 "nbformat_minor": 5
}
